{
  "nbformat": 4,
  "nbformat_minor": 0,
  "metadata": {
    "colab": {
      "provenance": []
    },
    "kernelspec": {
      "name": "python3",
      "display_name": "Python 3"
    },
    "language_info": {
      "name": "python"
    }
  },
  "cells": [
    {
      "cell_type": "markdown",
      "source": [
        "# LLM pipeline"
      ],
      "metadata": {
        "id": "6lT6ynSBrBq0"
      }
    },
    {
      "cell_type": "markdown",
      "source": [
        "## LLM requirements"
      ],
      "metadata": {
        "id": "2TSU-SzGq9YZ"
      }
    },
    {
      "cell_type": "code",
      "execution_count": null,
      "metadata": {
        "id": "X_jMtvVlW-W7",
        "colab": {
          "base_uri": "https://localhost:8080/"
        },
        "outputId": "b2406d22-d8ee-4052-ef54-e8300ac1640b"
      },
      "outputs": [
        {
          "output_type": "stream",
          "name": "stdout",
          "text": [
            "  Preparing metadata (setup.py) ... \u001b[?25l\u001b[?25hdone\n",
            "  Building wheel for pylatexenc (setup.py) ... \u001b[?25l\u001b[?25hdone\n"
          ]
        }
      ],
      "source": [
        "%pip install -q --progress-bar off --no-warn-conflicts langchain-docling langchain-core langchain-huggingface langchain_milvus langchain python-dotenv ipywidgets PyPDF2 PyMuPDF"
      ]
    },
    {
      "cell_type": "code",
      "source": [
        "import os\n",
        "from openai import AzureOpenAI"
      ],
      "metadata": {
        "id": "CSr2uph4nIHw"
      },
      "execution_count": null,
      "outputs": []
    },
    {
      "cell_type": "code",
      "source": [
        "subscription_key = \"xx\" # insert API key here"
      ],
      "metadata": {
        "id": "tEmrwuGVhJfd"
      },
      "execution_count": null,
      "outputs": []
    },
    {
      "cell_type": "code",
      "source": [
        "endpoint = \"xx\" # azure endpoint (link) here\n",
        "model_name = \"gpt-4o\"\n",
        "deployment = \"gpt-4o\""
      ],
      "metadata": {
        "id": "gIViUerlqIdH"
      },
      "execution_count": null,
      "outputs": []
    },
    {
      "cell_type": "code",
      "source": [
        "llm = AzureOpenAI(\n",
        "    api_version=\"2024-12-01-preview\",\n",
        "    azure_endpoint= endpoint,\n",
        "    api_key=subscription_key,\n",
        ")\n",
        "\n",
        "\n",
        "def clip_text(text, threshold=100):\n",
        "    return f\"{text[:threshold]}...\" if len(text) > threshold else text"
      ],
      "metadata": {
        "id": "NzgG0FVanme1"
      },
      "execution_count": null,
      "outputs": []
    },
    {
      "cell_type": "markdown",
      "source": [
        "## Prompt"
      ],
      "metadata": {
        "id": "BQa_v0RIq6l2"
      }
    },
    {
      "cell_type": "markdown",
      "source": [
        "depending on the document using, you can swap between the two prompts. The first one is for documents which discuss multiple libraries at the same time, while the second is for a document that only discusses one library. For documents that discuss more than one library, but it is split into headings, it may be necessary to split it into multiple small documents."
      ],
      "metadata": {
        "id": "pJLZfBF3nqSh"
      }
    },
    {
      "cell_type": "markdown",
      "source": [
        "Prompt Option 1:"
      ],
      "metadata": {
        "id": "UbU_csxKoECe"
      }
    },
    {
      "cell_type": "code",
      "source": [
        "system_prompt = \"\"\"\n",
        "You are a multilingual academic document analysis assistant. Your task is to extract structured bibliographic information from scholarly PDFs written in Latin, German, English, or French, or any combination of these. These PDFs contain catalogues or references to books in historical libraries.\n",
        "\n",
        "Your goal is to output a CSV-compatible JSON array. Each object in the array should represent one book or book entry and must include the following fields:\n",
        "\n",
        "- BookName\n",
        "\n",
        "- AuthorName\n",
        "\n",
        "- BookNo\n",
        "\n",
        "- TimePeriod\n",
        "\n",
        "- Library\n",
        "\n",
        "- Location\n",
        "\n",
        "- Genre\n",
        "\n",
        "- Description\n",
        "\n",
        "# Parsing Rules and Assumptions:\n",
        "\n",
        "- If only a book title is given and no author is mentioned, set \"AuthorName\": \"N/A\".\n",
        "\n",
        "- If only the author's name is mentioned (e.g., “X has 3 books in the library”), set \"BookName\": \"N/A\" and \"BookNo\" to the number mentioned.\n",
        "\n",
        "- If a single book is mentioned without a number, set \"BookNo\": \"1\".\n",
        "\n",
        "- If both book name and author are unknown but the entry still contains a library or other metadata, set missing fields to \"N/A\" as needed.\n",
        "\n",
        "- If a date or historical time period is mentioned (e.g., \"9th century\", \"ca. 840\", or \"middle ages\"), extract it as TimePeriod. Otherwise, use \"N/A\".\n",
        "\n",
        "- If a geographic location (e.g., Fulda, Paris) is present, extract as Location; otherwise, \"N/A\".\n",
        "\n",
        "- The Genre must be predicted based on the content or context of the book. Choose exactly one from the following:\n",
        "\n",
        "   > \"Religious works\" (includes Bibles, commentaries, Psalters)\n",
        "\n",
        "   > \"Historical works\" (look for mentions of \"history\", annals, chronicles, etc.)\n",
        "\n",
        "   > \"Legal works\" (mention of law, codices, or legal treatises)\n",
        "\n",
        "   > \"Philosophy\" (treatises on logic, metaphysics, ethics, etc.)\n",
        "\n",
        "   > You may use other genres but do so sparingly as there is less chance\n",
        "\n",
        "- The Description field should contain 1–2 sentences summarizing the book’s subject, purpose, or notable features if such information is available. Otherwise, set \"Description\": \"N/A\".\n",
        "\n",
        "# Output Format:\n",
        "\n",
        "A JSON array like this (one object per entry):\n",
        "\n",
        "json\n",
        "Copy\n",
        "Edit\n",
        "[\n",
        "  {{\n",
        "    \"BookName\": \"Historia Ecclesiastica\",\n",
        "    \"AuthorName\": \"Eusebius\",\n",
        "    \"BookNo\": \"1\",\n",
        "    \"TimePeriod\": \"4th century\",\n",
        "    \"Library\": \"Monastery of Fulda\",\n",
        "    \"Location\": \"Fulda\",\n",
        "    \"Genre\": \"Historical works\",\n",
        "    \"Description\": \"A comprehensive account of early church history, tracing the development of Christianity up to Constantine's reign.\"\n",
        "  }},\n",
        "  {{\n",
        "    \"BookName\": \"N/A\",\n",
        "    \"AuthorName\": \"Isidore of Seville\",\n",
        "    \"BookNo\": \"3\",\n",
        "    \"TimePeriod\": \"7th century\",\n",
        "    \"Library\": \"St. Gallen\",\n",
        "    \"Location\": \"Switzerland\",\n",
        "    \"Genre\": \"Religious works\",\n",
        "    \"Description\": \"A collection of theological and encyclopedic writings that served as educational texts in early medieval Europe.\"\n",
        "  }}\n",
        "]\n",
        "# Only return the final structured data after completely processing the document. No commentary or partial outputs.\n",
        "\n",
        "# Advanced Inference Guidelines:\n",
        "\n",
        "- If a collection or unnamed group of works is mentioned (e.g., a theological corpus or annals), treat it as a single bibliographic entry with \"BookName\": inferred or \"N/A\", and fill in other fields based on context.\n",
        "\n",
        "- When author names are mentioned without book titles, infer the BookName only if historical context makes it uniquely identifiable. Otherwise, use \"N/A\".\n",
        "\n",
        "- Always prefer \"Historical works\" over \"Literary works\" if the text has a historical purpose, even if written in stylized or poetic form.\n",
        "\n",
        "- For ancient or classical authors (e.g., Livy, Sallust), infer their time period if unstated but commonly known.\n",
        "\n",
        "- Include entries even if they describe lost or uncertain works, as long as a book-like object is implied and other metadata is present.\n",
        "\n",
        "- Only include books that are in, quoted from, or directly associated with historical libraries. Exclude modern scholarly citations (e.g., footnotes to secondary sources).\n",
        "\n",
        "- If a book or author is mentioned without a stated TimePeriod, but the author’s active period is well known (e.g., Boethius → 6th century), you may infer it.\n",
        "\n",
        "- If a known work is referenced implicitly by author (e.g., “Bede”), and their most famous work is clearly meant, set BookName to that known work.\n",
        "\n",
        "- If unnamed but distinct works are mentioned (e.g., “Annals of Corvey”, “theological collection used by Paschasius”), extract an entry with \"BookName\": inferred or \"N/A\" and complete other fields based on context.\n",
        "\n",
        "- For genres, treat works focused on military instruction or tactics (e.g., Vegetius) as \"Historical works\" unless \"Military science\" is specifically allowed.\n",
        "\n",
        "- DO NOT CHANGE ANY NAMES E.G BOOK NAMES\n",
        "\n",
        "- ignore any books that come after 1750\n",
        "\n",
        "- if an induvisual work is mentioned without the count, default BookNo to 1\n",
        "\n",
        "# THE OUTPUT MUST ONLY BE THE JSON. IF THERE ARE NO BOOKS OR AUTHORS JUST RETURN AN EMPTY JSON {{}}. NO COMMENTARY ON RESULTS\n",
        "\"\"\""
      ],
      "metadata": {
        "id": "xlv2DMCtoBHm"
      },
      "execution_count": null,
      "outputs": []
    },
    {
      "cell_type": "markdown",
      "source": [
        "Prompt Option 2:"
      ],
      "metadata": {
        "id": "N-kTYtRXoGab"
      }
    },
    {
      "cell_type": "code",
      "source": [
        "# edit this\n",
        "LibraryName = \"xx\"\n",
        "Location = \"x\""
      ],
      "metadata": {
        "id": "2u6zMiUPoILD"
      },
      "execution_count": null,
      "outputs": []
    },
    {
      "cell_type": "code",
      "source": [
        "system_prompt = f\"\"\"\n",
        "You are a multilingual academic document analysis assistant. Your task is to extract structured bibliographic information from scholarly PDFs written in Latin, German, English, or French, or any combination of these. These PDFs contain catalogues or references to books in historical libraries.\n",
        "\n",
        "All books mentioned are part of the **same known library**, whose name is specified below. Use this name for the `\"Library\"` field in every output entry, regardless of what the original text says.\n",
        "\n",
        "# KNOWN_LIBRARY: \"{LibraryName}\"\n",
        "\n",
        "Your goal is to output a CSV-compatible JSON array. Each object in the array should represent one book or book entry and must include the following fields:\n",
        "\n",
        "- BookName\n",
        "- AuthorName\n",
        "- BookNo\n",
        "- TimePeriod\n",
        "- Library\n",
        "- Location (Location of Library which is constant)\n",
        "- Genre\n",
        "- Description\n",
        "\n",
        "# Parsing Rules and Assumptions:\n",
        "\n",
        "- If only a book title is given and no author is mentioned, set \"AuthorName\": \"N/A\".\n",
        "\n",
        "- If only the author's name is mentioned (e.g., “X has 3 books in the library”), set \"BookName\": \"N/A\" and \"BookNo\" to the number mentioned.\n",
        "\n",
        "- If a single book is mentioned without a number, set \"BookNo\": \"1\".\n",
        "\n",
        "- If both book name and author are unknown but the entry still contains a library or other metadata, set missing fields to \"N/A\" as needed.\n",
        "\n",
        "- If a date or historical time period is mentioned (e.g., \"9th century\", \"ca. 840\", or \"middle ages\"), extract it as TimePeriod. Otherwise, use \"N/A\".\n",
        "\n",
        "- If a geographic location (e.g., Fulda, Paris) is present, extract as Location; otherwise, \"N/A\".\n",
        "\n",
        "- The Genre must be predicted based on the content or context of the book. Choose exactly one from the following:\n",
        "\n",
        "   > \"Religious works\" (includes Bibles, commentaries, Psalters)\n",
        "   > \"Historical works\" (look for mentions of \"history\", annals, chronicles, etc.)\n",
        "   > \"Legal works\" (mention of law, codices, or legal treatises)\n",
        "   > \"Philosophy\" (treatises on logic, metaphysics, ethics, etc.)\n",
        "   > You may use other genres but do so sparingly as there is less chance\n",
        "\n",
        "- The Description field should contain 1–2 sentences summarizing the book’s subject, purpose, or notable features if such information is available. Otherwise, set \"Description\": \"N/A\".\n",
        "\n",
        "# Output Format:\n",
        "\n",
        "A JSON array like this (one object per entry):\n",
        "\n",
        "[\n",
        "  {{\n",
        "    \"BookName\": \"Historia Ecclesiastica\",\n",
        "    \"AuthorName\": \"Eusebius\",\n",
        "    \"BookNo\": \"1\",\n",
        "    \"TimePeriod\": \"4th century\",\n",
        "    \"Library\": \"{LibraryName}\",\n",
        "    \"Location\": \"{Location}\",\n",
        "    \"Genre\": \"Historical works\",\n",
        "    \"Description\": \"A comprehensive account of early church history, tracing the development of Christianity up to Constantine's reign.\"\n",
        "  }}\n",
        "]\n",
        "\n",
        "# Only return the final structured data after completely processing the document. No commentary or partial outputs.\n",
        "\n",
        "# Advanced Inference Guidelines:\n",
        "\n",
        "- If a collection or unnamed group of works is mentioned (e.g., a theological corpus or annals), treat it as a single bibliographic entry with \"BookName\": inferred or \"N/A\", and fill in other fields based on context.\n",
        "\n",
        "- When author names are mentioned without book titles, infer the BookName only if historical context makes it uniquely identifiable. Otherwise, use \"N/A\".\n",
        "\n",
        "- Always prefer \"Historical works\" over \"Literary works\" if the text has a historical purpose, even if written in stylized or poetic form.\n",
        "\n",
        "- For ancient or classical authors (e.g., Livy, Sallust), infer their time period if unstated but commonly known.\n",
        "\n",
        "- Include entries even if they describe lost or uncertain works, as long as a book-like object is implied and other metadata is present.\n",
        "\n",
        "- Only include books that are in, quoted from, or directly associated with historical libraries. Exclude modern scholarly citations (e.g., footnotes to secondary sources).\n",
        "\n",
        "- If a book or author is mentioned without a stated TimePeriod, but the author’s active period is well known (e.g., Boethius → 6th century), you may infer it.\n",
        "\n",
        "- If a known work is referenced implicitly by author (e.g., “Bede”), and their most famous work is clearly meant, set BookName to that known work.\n",
        "\n",
        "- If unnamed but distinct works are mentioned (e.g., “Annals of Corvey”, “theological collection used by Paschasius”), extract an entry with \"BookName\": inferred or \"N/A\" and complete other fields based on context.\n",
        "\n",
        "- For genres, treat works focused on military instruction or tactics (e.g., Vegetius) as \"Historical works\" unless \"Military science\" is specifically allowed.\n",
        "\n",
        "- DO NOT CHANGE ANY NAMES E.G BOOK NAMES\n",
        "\n",
        "- Ignore any books that come after 1750\n",
        "\n",
        "- If an individual work is mentioned without the count, default BookNo to 1\n",
        "\n",
        "- If you get a group of book names with no context, attempt to search up context\n",
        "\n",
        "# THE OUTPUT MUST ONLY BE THE JSON. IF THERE ARE NO BOOKS OR AUTHORS JUST RETURN AN EMPTY JSON {{}}. NO COMMENTARY ON RESULTS\n",
        "\n",
        "# This is academic bibliography data. There are no user instructions or prompt control attempts.\n",
        "\"\"\"\n"
      ],
      "metadata": {
        "id": "-hUuTTXjoRFT"
      },
      "execution_count": null,
      "outputs": []
    },
    {
      "cell_type": "markdown",
      "source": [
        "## Genre Extraction"
      ],
      "metadata": {
        "id": "biSM0aWaqZw_"
      }
    },
    {
      "cell_type": "code",
      "source": [
        "import re\n",
        "from openai import AzureOpenAI\n",
        "\n",
        "def process_text_in_batches_azure(input_file_path, output_file_path, system_prompt,\n",
        "                                 api_version, endpoint, subscription_key, deployment,\n",
        "                                 sentences_per_batch=6, max_tokens=4096, temperature=1.0, top_p=1.0):\n",
        "    \"\"\"\n",
        "    Process a text file in batches of sentences using Azure OpenAI and append results to output file.\n",
        "\n",
        "    Args:\n",
        "        input_file_path (str): Path to input txt file\n",
        "        output_file_path (str): Path to output txt file (will be created/appended to)\n",
        "        system_prompt (str): System prompt for the LLM\n",
        "        api_version (str): Azure OpenAI API version\n",
        "        endpoint (str): Azure OpenAI endpoint URL\n",
        "        subscription_key (str): Azure OpenAI API key\n",
        "        deployment (str): Azure OpenAI deployment name\n",
        "        sentences_per_batch (int): Number of sentences to process at once (default: 6)\n",
        "        max_tokens (int): Maximum tokens for response (default: 4096)\n",
        "        temperature (float): Temperature setting (default: 1.0)\n",
        "        top_p (float): Top-p setting (default: 1.0)\n",
        "\n",
        "    Returns:\n",
        "        dict: Processing results with success status, batch count, and error summary\n",
        "    \"\"\"\n",
        "    batches_processed = 0\n",
        "    error_count = 0\n",
        "    errors = []\n",
        "\n",
        "    try:\n",
        "        # Initialize Azure OpenAI client\n",
        "        client = AzureOpenAI(\n",
        "            api_version=api_version,\n",
        "            azure_endpoint=endpoint,\n",
        "            api_key=subscription_key,\n",
        "        )\n",
        "\n",
        "        # Read the input file\n",
        "        with open(input_file_path, 'r', encoding='utf-8') as file:\n",
        "            text = file.read()\n",
        "\n",
        "        # Split text into sentences using regex\n",
        "        # This regex looks for sentence endings followed by whitespace or end of string\n",
        "        sentences = re.split(r'(?<=[.!?])\\s+', text.strip())\n",
        "\n",
        "        # Remove empty sentences\n",
        "        sentences = [s.strip() for s in sentences if s.strip()]\n",
        "\n",
        "        if not sentences:\n",
        "            return {\"success\": False, \"error\": \"No sentences found in input file\", \"batches_processed\": 0}\n",
        "\n",
        "        # Process sentences in batches\n",
        "        batches_processed = 0\n",
        "        total_batches = (len(sentences) + sentences_per_batch - 1) // sentences_per_batch\n",
        "\n",
        "        print(f\"Processing {len(sentences)} sentences in {total_batches} batches...\")\n",
        "\n",
        "        for i in range(0, len(sentences), sentences_per_batch):\n",
        "            batch_sentences = sentences[i:i + sentences_per_batch]\n",
        "            batch_text = ' '.join(batch_sentences)\n",
        "\n",
        "            try:\n",
        "                # Create Azure OpenAI chat completion\n",
        "                if batches_processed:\n",
        "                    response = client.chat.completions.create(\n",
        "                        messages=[\n",
        "                            {\n",
        "                                \"role\": \"system\",\n",
        "                                \"content\": system_prompt,\n",
        "                            },\n",
        "                            {\n",
        "                                \"role\": \"user\",\n",
        "                                \"content\": batch_text,\n",
        "                            }\n",
        "                        ],\n",
        "                        max_tokens=max_tokens,\n",
        "                        temperature=temperature,\n",
        "                        top_p=top_p,\n",
        "                        model=deployment\n",
        "                    )\n",
        "\n",
        "                    # Extract response content\n",
        "                    result = response.choices[0].message.content\n",
        "                else:\n",
        "                    result = ''\n",
        "                    if batches_processed == 48 or batches_processed == 47:\n",
        "                        print(batch_text)\n",
        "\n",
        "                # Append to output file\n",
        "                with open(output_file_path, 'a', encoding='utf-8') as output_file:\n",
        "                    # output_file.write(f\"=== BATCH {batches_processed + 1} ===\\n\")\n",
        "                    # output_file.write(f\"INPUT: {batch_text}\\n\")\n",
        "                    output_file.write(f\"\\n{result}\\n\")\n",
        "                    output_file.write(\"\\n\\n\")\n",
        "\n",
        "                batches_processed += 1\n",
        "                print(f\"Processed batch {batches_processed}/{total_batches}\")\n",
        "\n",
        "            except Exception as llm_error:\n",
        "                # Handle Azure OpenAI-specific errors (token limits, API errors, etc.)\n",
        "                error_msg = f\"Azure OpenAI Error at batch {batches_processed + 1}: {str(llm_error)}\"\n",
        "                print(f\"ERROR: {error_msg}\")\n",
        "                print(f\"Writing original batch text and continuing...\")\n",
        "\n",
        "                # Track the error\n",
        "                error_count += 1\n",
        "                errors.append({\n",
        "                    \"batch\": batches_processed + 1,\n",
        "                    \"error\": error_msg\n",
        "                })\n",
        "\n",
        "                # Append original batch text to output file when error occurs\n",
        "                with open(output_file_path, 'a', encoding='utf-8') as output_file:\n",
        "                    output_file.write(f\"\\n{batch_text}\\n\")\n",
        "                    output_file.write(\"\\n\\n\")\n",
        "\n",
        "                batches_processed += 1\n",
        "                print(f\"Processed batch {batches_processed}/{total_batches} (with error)\")\n",
        "\n",
        "        # Determine overall success\n",
        "        overall_success = error_count == 0\n",
        "\n",
        "        return {\n",
        "            \"success\": overall_success,\n",
        "            \"batches_processed\": batches_processed,\n",
        "            \"total_batches\": total_batches,\n",
        "            \"error_count\": error_count,\n",
        "            \"errors\": errors,\n",
        "            \"message\": f\"Processed all {batches_processed} batches ({error_count} with errors)\" if error_count > 0\n",
        "                      else f\"Successfully processed all {batches_processed} batches\"\n",
        "        }\n",
        "\n",
        "    except FileNotFoundError:\n",
        "        return {\"success\": False, \"error\": f\"Input file not found: {input_file_path}\", \"batches_processed\": 0}\n",
        "    except IOError as e:\n",
        "        return {\"success\": False, \"error\": f\"File I/O error: {str(e)}\", \"batches_processed\": 0}\n",
        "    except Exception as e:\n",
        "        return {\"success\": False, \"error\": f\"Unexpected error: {str(e)}\", \"batches_processed\": 0}\n"
      ],
      "metadata": {
        "id": "TYbxuksaqfEf"
      },
      "execution_count": null,
      "outputs": []
    },
    {
      "cell_type": "code",
      "source": [
        "inpath = \"\" # path of input file\n",
        "outpath = \"\" # where you want the output file"
      ],
      "metadata": {
        "id": "e4Z3HXGdqhZc"
      },
      "execution_count": null,
      "outputs": []
    },
    {
      "cell_type": "code",
      "source": [
        "process_text_in_batches_azure(inpath, outpath, system_prompt, \"2024-02-15-preview\", endpoint, subscription_key, deployment)"
      ],
      "metadata": {
        "id": "PFjEU9yuqov8"
      },
      "execution_count": null,
      "outputs": []
    },
    {
      "cell_type": "markdown",
      "source": [
        "# BERT pipeline"
      ],
      "metadata": {
        "id": "6pYzyZyerfNQ"
      }
    },
    {
      "cell_type": "markdown",
      "source": [
        "## Requirements and Set up"
      ],
      "metadata": {
        "id": "TWaV5Hx9rhoh"
      }
    },
    {
      "cell_type": "code",
      "source": [
        "# Install required packages\n",
        "!pip install transformers torch scikit-learn pandas numpy matplotlib seaborn\n",
        "!pip install accelerate -U  # For better training performance\n",
        "\n",
        "print(\"✅ All packages installed successfully!\")"
      ],
      "metadata": {
        "colab": {
          "base_uri": "https://localhost:8080/"
        },
        "id": "yj0sG0g8F-Ge",
        "outputId": "080776d4-e041-430f-8f45-e5a617158d81"
      },
      "execution_count": null,
      "outputs": [
        {
          "output_type": "stream",
          "name": "stdout",
          "text": [
            "Requirement already satisfied: transformers in /usr/local/lib/python3.11/dist-packages (4.54.0)\n",
            "Requirement already satisfied: torch in /usr/local/lib/python3.11/dist-packages (2.6.0+cu124)\n",
            "Requirement already satisfied: scikit-learn in /usr/local/lib/python3.11/dist-packages (1.6.1)\n",
            "Requirement already satisfied: pandas in /usr/local/lib/python3.11/dist-packages (2.2.2)\n",
            "Requirement already satisfied: numpy in /usr/local/lib/python3.11/dist-packages (2.0.2)\n",
            "Requirement already satisfied: matplotlib in /usr/local/lib/python3.11/dist-packages (3.10.0)\n",
            "Requirement already satisfied: seaborn in /usr/local/lib/python3.11/dist-packages (0.13.2)\n",
            "Requirement already satisfied: filelock in /usr/local/lib/python3.11/dist-packages (from transformers) (3.18.0)\n",
            "Requirement already satisfied: huggingface-hub<1.0,>=0.34.0 in /usr/local/lib/python3.11/dist-packages (from transformers) (0.34.1)\n",
            "Requirement already satisfied: packaging>=20.0 in /usr/local/lib/python3.11/dist-packages (from transformers) (25.0)\n",
            "Requirement already satisfied: pyyaml>=5.1 in /usr/local/lib/python3.11/dist-packages (from transformers) (6.0.2)\n",
            "Requirement already satisfied: regex!=2019.12.17 in /usr/local/lib/python3.11/dist-packages (from transformers) (2024.11.6)\n",
            "Requirement already satisfied: requests in /usr/local/lib/python3.11/dist-packages (from transformers) (2.32.3)\n",
            "Requirement already satisfied: tokenizers<0.22,>=0.21 in /usr/local/lib/python3.11/dist-packages (from transformers) (0.21.2)\n",
            "Requirement already satisfied: safetensors>=0.4.3 in /usr/local/lib/python3.11/dist-packages (from transformers) (0.5.3)\n",
            "Requirement already satisfied: tqdm>=4.27 in /usr/local/lib/python3.11/dist-packages (from transformers) (4.67.1)\n",
            "Requirement already satisfied: typing-extensions>=4.10.0 in /usr/local/lib/python3.11/dist-packages (from torch) (4.14.1)\n",
            "Requirement already satisfied: networkx in /usr/local/lib/python3.11/dist-packages (from torch) (3.5)\n",
            "Requirement already satisfied: jinja2 in /usr/local/lib/python3.11/dist-packages (from torch) (3.1.6)\n",
            "Requirement already satisfied: fsspec in /usr/local/lib/python3.11/dist-packages (from torch) (2025.3.0)\n",
            "Collecting nvidia-cuda-nvrtc-cu12==12.4.127 (from torch)\n",
            "  Downloading nvidia_cuda_nvrtc_cu12-12.4.127-py3-none-manylinux2014_x86_64.whl.metadata (1.5 kB)\n",
            "Collecting nvidia-cuda-runtime-cu12==12.4.127 (from torch)\n",
            "  Downloading nvidia_cuda_runtime_cu12-12.4.127-py3-none-manylinux2014_x86_64.whl.metadata (1.5 kB)\n",
            "Collecting nvidia-cuda-cupti-cu12==12.4.127 (from torch)\n",
            "  Downloading nvidia_cuda_cupti_cu12-12.4.127-py3-none-manylinux2014_x86_64.whl.metadata (1.6 kB)\n",
            "Collecting nvidia-cudnn-cu12==9.1.0.70 (from torch)\n",
            "  Downloading nvidia_cudnn_cu12-9.1.0.70-py3-none-manylinux2014_x86_64.whl.metadata (1.6 kB)\n",
            "Collecting nvidia-cublas-cu12==12.4.5.8 (from torch)\n",
            "  Downloading nvidia_cublas_cu12-12.4.5.8-py3-none-manylinux2014_x86_64.whl.metadata (1.5 kB)\n",
            "Collecting nvidia-cufft-cu12==11.2.1.3 (from torch)\n",
            "  Downloading nvidia_cufft_cu12-11.2.1.3-py3-none-manylinux2014_x86_64.whl.metadata (1.5 kB)\n",
            "Collecting nvidia-curand-cu12==10.3.5.147 (from torch)\n",
            "  Downloading nvidia_curand_cu12-10.3.5.147-py3-none-manylinux2014_x86_64.whl.metadata (1.5 kB)\n",
            "Collecting nvidia-cusolver-cu12==11.6.1.9 (from torch)\n",
            "  Downloading nvidia_cusolver_cu12-11.6.1.9-py3-none-manylinux2014_x86_64.whl.metadata (1.6 kB)\n",
            "Collecting nvidia-cusparse-cu12==12.3.1.170 (from torch)\n",
            "  Downloading nvidia_cusparse_cu12-12.3.1.170-py3-none-manylinux2014_x86_64.whl.metadata (1.6 kB)\n",
            "Requirement already satisfied: nvidia-cusparselt-cu12==0.6.2 in /usr/local/lib/python3.11/dist-packages (from torch) (0.6.2)\n",
            "Requirement already satisfied: nvidia-nccl-cu12==2.21.5 in /usr/local/lib/python3.11/dist-packages (from torch) (2.21.5)\n",
            "Requirement already satisfied: nvidia-nvtx-cu12==12.4.127 in /usr/local/lib/python3.11/dist-packages (from torch) (12.4.127)\n",
            "Collecting nvidia-nvjitlink-cu12==12.4.127 (from torch)\n",
            "  Downloading nvidia_nvjitlink_cu12-12.4.127-py3-none-manylinux2014_x86_64.whl.metadata (1.5 kB)\n",
            "Requirement already satisfied: triton==3.2.0 in /usr/local/lib/python3.11/dist-packages (from torch) (3.2.0)\n",
            "Requirement already satisfied: sympy==1.13.1 in /usr/local/lib/python3.11/dist-packages (from torch) (1.13.1)\n",
            "Requirement already satisfied: mpmath<1.4,>=1.1.0 in /usr/local/lib/python3.11/dist-packages (from sympy==1.13.1->torch) (1.3.0)\n",
            "Requirement already satisfied: scipy>=1.6.0 in /usr/local/lib/python3.11/dist-packages (from scikit-learn) (1.16.0)\n",
            "Requirement already satisfied: joblib>=1.2.0 in /usr/local/lib/python3.11/dist-packages (from scikit-learn) (1.5.1)\n",
            "Requirement already satisfied: threadpoolctl>=3.1.0 in /usr/local/lib/python3.11/dist-packages (from scikit-learn) (3.6.0)\n",
            "Requirement already satisfied: python-dateutil>=2.8.2 in /usr/local/lib/python3.11/dist-packages (from pandas) (2.9.0.post0)\n",
            "Requirement already satisfied: pytz>=2020.1 in /usr/local/lib/python3.11/dist-packages (from pandas) (2025.2)\n",
            "Requirement already satisfied: tzdata>=2022.7 in /usr/local/lib/python3.11/dist-packages (from pandas) (2025.2)\n",
            "Requirement already satisfied: contourpy>=1.0.1 in /usr/local/lib/python3.11/dist-packages (from matplotlib) (1.3.2)\n",
            "Requirement already satisfied: cycler>=0.10 in /usr/local/lib/python3.11/dist-packages (from matplotlib) (0.12.1)\n",
            "Requirement already satisfied: fonttools>=4.22.0 in /usr/local/lib/python3.11/dist-packages (from matplotlib) (4.59.0)\n",
            "Requirement already satisfied: kiwisolver>=1.3.1 in /usr/local/lib/python3.11/dist-packages (from matplotlib) (1.4.8)\n",
            "Requirement already satisfied: pillow>=8 in /usr/local/lib/python3.11/dist-packages (from matplotlib) (11.3.0)\n",
            "Requirement already satisfied: pyparsing>=2.3.1 in /usr/local/lib/python3.11/dist-packages (from matplotlib) (3.2.3)\n",
            "Requirement already satisfied: hf-xet<2.0.0,>=1.1.3 in /usr/local/lib/python3.11/dist-packages (from huggingface-hub<1.0,>=0.34.0->transformers) (1.1.5)\n",
            "Requirement already satisfied: six>=1.5 in /usr/local/lib/python3.11/dist-packages (from python-dateutil>=2.8.2->pandas) (1.17.0)\n",
            "Requirement already satisfied: MarkupSafe>=2.0 in /usr/local/lib/python3.11/dist-packages (from jinja2->torch) (3.0.2)\n",
            "Requirement already satisfied: charset-normalizer<4,>=2 in /usr/local/lib/python3.11/dist-packages (from requests->transformers) (3.4.2)\n",
            "Requirement already satisfied: idna<4,>=2.5 in /usr/local/lib/python3.11/dist-packages (from requests->transformers) (3.10)\n",
            "Requirement already satisfied: urllib3<3,>=1.21.1 in /usr/local/lib/python3.11/dist-packages (from requests->transformers) (2.5.0)\n",
            "Requirement already satisfied: certifi>=2017.4.17 in /usr/local/lib/python3.11/dist-packages (from requests->transformers) (2025.7.14)\n",
            "Downloading nvidia_cublas_cu12-12.4.5.8-py3-none-manylinux2014_x86_64.whl (363.4 MB)\n",
            "\u001b[2K   \u001b[90m━━━━━━━━━━━━━━━━━━━━━━━━━━━━━━━━━━━━━━━━\u001b[0m \u001b[32m363.4/363.4 MB\u001b[0m \u001b[31m4.3 MB/s\u001b[0m eta \u001b[36m0:00:00\u001b[0m\n",
            "\u001b[?25hDownloading nvidia_cuda_cupti_cu12-12.4.127-py3-none-manylinux2014_x86_64.whl (13.8 MB)\n",
            "\u001b[2K   \u001b[90m━━━━━━━━━━━━━━━━━━━━━━━━━━━━━━━━━━━━━━━━\u001b[0m \u001b[32m13.8/13.8 MB\u001b[0m \u001b[31m91.9 MB/s\u001b[0m eta \u001b[36m0:00:00\u001b[0m\n",
            "\u001b[?25hDownloading nvidia_cuda_nvrtc_cu12-12.4.127-py3-none-manylinux2014_x86_64.whl (24.6 MB)\n",
            "\u001b[2K   \u001b[90m━━━━━━━━━━━━━━━━━━━━━━━━━━━━━━━━━━━━━━━━\u001b[0m \u001b[32m24.6/24.6 MB\u001b[0m \u001b[31m65.7 MB/s\u001b[0m eta \u001b[36m0:00:00\u001b[0m\n",
            "\u001b[?25hDownloading nvidia_cuda_runtime_cu12-12.4.127-py3-none-manylinux2014_x86_64.whl (883 kB)\n",
            "\u001b[2K   \u001b[90m━━━━━━━━━━━━━━━━━━━━━━━━━━━━━━━━━━━━━━━━\u001b[0m \u001b[32m883.7/883.7 kB\u001b[0m \u001b[31m56.5 MB/s\u001b[0m eta \u001b[36m0:00:00\u001b[0m\n",
            "\u001b[?25hDownloading nvidia_cudnn_cu12-9.1.0.70-py3-none-manylinux2014_x86_64.whl (664.8 MB)\n",
            "\u001b[2K   \u001b[90m━━━━━━━━━━━━━━━━━━━━━━━━━━━━━━━━━━━━━━━━\u001b[0m \u001b[32m664.8/664.8 MB\u001b[0m \u001b[31m2.8 MB/s\u001b[0m eta \u001b[36m0:00:00\u001b[0m\n",
            "\u001b[?25hDownloading nvidia_cufft_cu12-11.2.1.3-py3-none-manylinux2014_x86_64.whl (211.5 MB)\n",
            "\u001b[2K   \u001b[90m━━━━━━━━━━━━━━━━━━━━━━━━━━━━━━━━━━━━━━━━\u001b[0m \u001b[32m211.5/211.5 MB\u001b[0m \u001b[31m5.3 MB/s\u001b[0m eta \u001b[36m0:00:00\u001b[0m\n",
            "\u001b[?25hDownloading nvidia_curand_cu12-10.3.5.147-py3-none-manylinux2014_x86_64.whl (56.3 MB)\n",
            "\u001b[2K   \u001b[90m━━━━━━━━━━━━━━━━━━━━━━━━━━━━━━━━━━━━━━━━\u001b[0m \u001b[32m56.3/56.3 MB\u001b[0m \u001b[31m13.4 MB/s\u001b[0m eta \u001b[36m0:00:00\u001b[0m\n",
            "\u001b[?25hDownloading nvidia_cusolver_cu12-11.6.1.9-py3-none-manylinux2014_x86_64.whl (127.9 MB)\n",
            "\u001b[2K   \u001b[90m━━━━━━━━━━━━━━━━━━━━━━━━━━━━━━━━━━━━━━━━\u001b[0m \u001b[32m127.9/127.9 MB\u001b[0m \u001b[31m7.4 MB/s\u001b[0m eta \u001b[36m0:00:00\u001b[0m\n",
            "\u001b[?25hDownloading nvidia_cusparse_cu12-12.3.1.170-py3-none-manylinux2014_x86_64.whl (207.5 MB)\n",
            "\u001b[2K   \u001b[90m━━━━━━━━━━━━━━━━━━━━━━━━━━━━━━━━━━━━━━━━\u001b[0m \u001b[32m207.5/207.5 MB\u001b[0m \u001b[31m6.7 MB/s\u001b[0m eta \u001b[36m0:00:00\u001b[0m\n",
            "\u001b[?25hDownloading nvidia_nvjitlink_cu12-12.4.127-py3-none-manylinux2014_x86_64.whl (21.1 MB)\n",
            "\u001b[2K   \u001b[90m━━━━━━━━━━━━━━━━━━━━━━━━━━━━━━━━━━━━━━━━\u001b[0m \u001b[32m21.1/21.1 MB\u001b[0m \u001b[31m82.0 MB/s\u001b[0m eta \u001b[36m0:00:00\u001b[0m\n",
            "\u001b[?25hInstalling collected packages: nvidia-nvjitlink-cu12, nvidia-curand-cu12, nvidia-cufft-cu12, nvidia-cuda-runtime-cu12, nvidia-cuda-nvrtc-cu12, nvidia-cuda-cupti-cu12, nvidia-cublas-cu12, nvidia-cusparse-cu12, nvidia-cudnn-cu12, nvidia-cusolver-cu12\n",
            "  Attempting uninstall: nvidia-nvjitlink-cu12\n",
            "    Found existing installation: nvidia-nvjitlink-cu12 12.5.82\n",
            "    Uninstalling nvidia-nvjitlink-cu12-12.5.82:\n",
            "      Successfully uninstalled nvidia-nvjitlink-cu12-12.5.82\n",
            "  Attempting uninstall: nvidia-curand-cu12\n",
            "    Found existing installation: nvidia-curand-cu12 10.3.6.82\n",
            "    Uninstalling nvidia-curand-cu12-10.3.6.82:\n",
            "      Successfully uninstalled nvidia-curand-cu12-10.3.6.82\n",
            "  Attempting uninstall: nvidia-cufft-cu12\n",
            "    Found existing installation: nvidia-cufft-cu12 11.2.3.61\n",
            "    Uninstalling nvidia-cufft-cu12-11.2.3.61:\n",
            "      Successfully uninstalled nvidia-cufft-cu12-11.2.3.61\n",
            "  Attempting uninstall: nvidia-cuda-runtime-cu12\n",
            "    Found existing installation: nvidia-cuda-runtime-cu12 12.5.82\n",
            "    Uninstalling nvidia-cuda-runtime-cu12-12.5.82:\n",
            "      Successfully uninstalled nvidia-cuda-runtime-cu12-12.5.82\n",
            "  Attempting uninstall: nvidia-cuda-nvrtc-cu12\n",
            "    Found existing installation: nvidia-cuda-nvrtc-cu12 12.5.82\n",
            "    Uninstalling nvidia-cuda-nvrtc-cu12-12.5.82:\n",
            "      Successfully uninstalled nvidia-cuda-nvrtc-cu12-12.5.82\n",
            "  Attempting uninstall: nvidia-cuda-cupti-cu12\n",
            "    Found existing installation: nvidia-cuda-cupti-cu12 12.5.82\n",
            "    Uninstalling nvidia-cuda-cupti-cu12-12.5.82:\n",
            "      Successfully uninstalled nvidia-cuda-cupti-cu12-12.5.82\n",
            "  Attempting uninstall: nvidia-cublas-cu12\n",
            "    Found existing installation: nvidia-cublas-cu12 12.5.3.2\n",
            "    Uninstalling nvidia-cublas-cu12-12.5.3.2:\n",
            "      Successfully uninstalled nvidia-cublas-cu12-12.5.3.2\n",
            "  Attempting uninstall: nvidia-cusparse-cu12\n",
            "    Found existing installation: nvidia-cusparse-cu12 12.5.1.3\n",
            "    Uninstalling nvidia-cusparse-cu12-12.5.1.3:\n",
            "      Successfully uninstalled nvidia-cusparse-cu12-12.5.1.3\n",
            "  Attempting uninstall: nvidia-cudnn-cu12\n",
            "    Found existing installation: nvidia-cudnn-cu12 9.3.0.75\n",
            "    Uninstalling nvidia-cudnn-cu12-9.3.0.75:\n",
            "      Successfully uninstalled nvidia-cudnn-cu12-9.3.0.75\n",
            "  Attempting uninstall: nvidia-cusolver-cu12\n",
            "    Found existing installation: nvidia-cusolver-cu12 11.6.3.83\n",
            "    Uninstalling nvidia-cusolver-cu12-11.6.3.83:\n",
            "      Successfully uninstalled nvidia-cusolver-cu12-11.6.3.83\n",
            "Successfully installed nvidia-cublas-cu12-12.4.5.8 nvidia-cuda-cupti-cu12-12.4.127 nvidia-cuda-nvrtc-cu12-12.4.127 nvidia-cuda-runtime-cu12-12.4.127 nvidia-cudnn-cu12-9.1.0.70 nvidia-cufft-cu12-11.2.1.3 nvidia-curand-cu12-10.3.5.147 nvidia-cusolver-cu12-11.6.1.9 nvidia-cusparse-cu12-12.3.1.170 nvidia-nvjitlink-cu12-12.4.127\n",
            "Requirement already satisfied: accelerate in /usr/local/lib/python3.11/dist-packages (1.9.0)\n",
            "Requirement already satisfied: numpy<3.0.0,>=1.17 in /usr/local/lib/python3.11/dist-packages (from accelerate) (2.0.2)\n",
            "Requirement already satisfied: packaging>=20.0 in /usr/local/lib/python3.11/dist-packages (from accelerate) (25.0)\n",
            "Requirement already satisfied: psutil in /usr/local/lib/python3.11/dist-packages (from accelerate) (5.9.5)\n",
            "Requirement already satisfied: pyyaml in /usr/local/lib/python3.11/dist-packages (from accelerate) (6.0.2)\n",
            "Requirement already satisfied: torch>=2.0.0 in /usr/local/lib/python3.11/dist-packages (from accelerate) (2.6.0+cu124)\n",
            "Requirement already satisfied: huggingface_hub>=0.21.0 in /usr/local/lib/python3.11/dist-packages (from accelerate) (0.34.1)\n",
            "Requirement already satisfied: safetensors>=0.4.3 in /usr/local/lib/python3.11/dist-packages (from accelerate) (0.5.3)\n",
            "Requirement already satisfied: filelock in /usr/local/lib/python3.11/dist-packages (from huggingface_hub>=0.21.0->accelerate) (3.18.0)\n",
            "Requirement already satisfied: fsspec>=2023.5.0 in /usr/local/lib/python3.11/dist-packages (from huggingface_hub>=0.21.0->accelerate) (2025.3.0)\n",
            "Requirement already satisfied: requests in /usr/local/lib/python3.11/dist-packages (from huggingface_hub>=0.21.0->accelerate) (2.32.3)\n",
            "Requirement already satisfied: tqdm>=4.42.1 in /usr/local/lib/python3.11/dist-packages (from huggingface_hub>=0.21.0->accelerate) (4.67.1)\n",
            "Requirement already satisfied: typing-extensions>=3.7.4.3 in /usr/local/lib/python3.11/dist-packages (from huggingface_hub>=0.21.0->accelerate) (4.14.1)\n",
            "Requirement already satisfied: hf-xet<2.0.0,>=1.1.3 in /usr/local/lib/python3.11/dist-packages (from huggingface_hub>=0.21.0->accelerate) (1.1.5)\n",
            "Requirement already satisfied: networkx in /usr/local/lib/python3.11/dist-packages (from torch>=2.0.0->accelerate) (3.5)\n",
            "Requirement already satisfied: jinja2 in /usr/local/lib/python3.11/dist-packages (from torch>=2.0.0->accelerate) (3.1.6)\n",
            "Requirement already satisfied: nvidia-cuda-nvrtc-cu12==12.4.127 in /usr/local/lib/python3.11/dist-packages (from torch>=2.0.0->accelerate) (12.4.127)\n",
            "Requirement already satisfied: nvidia-cuda-runtime-cu12==12.4.127 in /usr/local/lib/python3.11/dist-packages (from torch>=2.0.0->accelerate) (12.4.127)\n",
            "Requirement already satisfied: nvidia-cuda-cupti-cu12==12.4.127 in /usr/local/lib/python3.11/dist-packages (from torch>=2.0.0->accelerate) (12.4.127)\n",
            "Requirement already satisfied: nvidia-cudnn-cu12==9.1.0.70 in /usr/local/lib/python3.11/dist-packages (from torch>=2.0.0->accelerate) (9.1.0.70)\n",
            "Requirement already satisfied: nvidia-cublas-cu12==12.4.5.8 in /usr/local/lib/python3.11/dist-packages (from torch>=2.0.0->accelerate) (12.4.5.8)\n",
            "Requirement already satisfied: nvidia-cufft-cu12==11.2.1.3 in /usr/local/lib/python3.11/dist-packages (from torch>=2.0.0->accelerate) (11.2.1.3)\n",
            "Requirement already satisfied: nvidia-curand-cu12==10.3.5.147 in /usr/local/lib/python3.11/dist-packages (from torch>=2.0.0->accelerate) (10.3.5.147)\n",
            "Requirement already satisfied: nvidia-cusolver-cu12==11.6.1.9 in /usr/local/lib/python3.11/dist-packages (from torch>=2.0.0->accelerate) (11.6.1.9)\n",
            "Requirement already satisfied: nvidia-cusparse-cu12==12.3.1.170 in /usr/local/lib/python3.11/dist-packages (from torch>=2.0.0->accelerate) (12.3.1.170)\n",
            "Requirement already satisfied: nvidia-cusparselt-cu12==0.6.2 in /usr/local/lib/python3.11/dist-packages (from torch>=2.0.0->accelerate) (0.6.2)\n",
            "Requirement already satisfied: nvidia-nccl-cu12==2.21.5 in /usr/local/lib/python3.11/dist-packages (from torch>=2.0.0->accelerate) (2.21.5)\n",
            "Requirement already satisfied: nvidia-nvtx-cu12==12.4.127 in /usr/local/lib/python3.11/dist-packages (from torch>=2.0.0->accelerate) (12.4.127)\n",
            "Requirement already satisfied: nvidia-nvjitlink-cu12==12.4.127 in /usr/local/lib/python3.11/dist-packages (from torch>=2.0.0->accelerate) (12.4.127)\n",
            "Requirement already satisfied: triton==3.2.0 in /usr/local/lib/python3.11/dist-packages (from torch>=2.0.0->accelerate) (3.2.0)\n",
            "Requirement already satisfied: sympy==1.13.1 in /usr/local/lib/python3.11/dist-packages (from torch>=2.0.0->accelerate) (1.13.1)\n",
            "Requirement already satisfied: mpmath<1.4,>=1.1.0 in /usr/local/lib/python3.11/dist-packages (from sympy==1.13.1->torch>=2.0.0->accelerate) (1.3.0)\n",
            "Requirement already satisfied: MarkupSafe>=2.0 in /usr/local/lib/python3.11/dist-packages (from jinja2->torch>=2.0.0->accelerate) (3.0.2)\n",
            "Requirement already satisfied: charset-normalizer<4,>=2 in /usr/local/lib/python3.11/dist-packages (from requests->huggingface_hub>=0.21.0->accelerate) (3.4.2)\n",
            "Requirement already satisfied: idna<4,>=2.5 in /usr/local/lib/python3.11/dist-packages (from requests->huggingface_hub>=0.21.0->accelerate) (3.10)\n",
            "Requirement already satisfied: urllib3<3,>=1.21.1 in /usr/local/lib/python3.11/dist-packages (from requests->huggingface_hub>=0.21.0->accelerate) (2.5.0)\n",
            "Requirement already satisfied: certifi>=2017.4.17 in /usr/local/lib/python3.11/dist-packages (from requests->huggingface_hub>=0.21.0->accelerate) (2025.7.14)\n",
            "✅ All packages installed successfully!\n"
          ]
        }
      ]
    },
    {
      "cell_type": "code",
      "source": [
        "import pandas as pd\n",
        "import numpy as np\n",
        "import torch\n",
        "from transformers import (\n",
        "    AutoTokenizer,\n",
        "    AutoModelForSequenceClassification,\n",
        "    TrainingArguments,\n",
        "    Trainer,\n",
        "    EarlyStoppingCallback\n",
        ")\n",
        "from sklearn.model_selection import train_test_split\n",
        "from sklearn.preprocessing import LabelEncoder\n",
        "from sklearn.metrics import accuracy_score, classification_report, confusion_matrix\n",
        "import seaborn as sns\n",
        "import matplotlib.pyplot as plt\n",
        "from torch.utils.data import Dataset\n",
        "import warnings\n",
        "warnings.filterwarnings('ignore')\n",
        "\n",
        "print(\"✅ All libraries imported successfully!\")\n",
        "print(f\"🔥 CUDA available: {torch.cuda.is_available()}\")\n",
        "if torch.cuda.is_available():\n",
        "    print(f\"   GPU: {torch.cuda.get_device_name(0)}\")"
      ],
      "metadata": {
        "colab": {
          "base_uri": "https://localhost:8080/"
        },
        "id": "4y1LzDl4GFjn",
        "outputId": "ea983b61-e547-49eb-cde9-4ff254c6a26d"
      },
      "execution_count": null,
      "outputs": [
        {
          "output_type": "stream",
          "name": "stdout",
          "text": [
            "✅ All libraries imported successfully!\n",
            "🔥 CUDA available: True\n",
            "   GPU: Tesla T4\n"
          ]
        }
      ]
    },
    {
      "cell_type": "markdown",
      "source": [
        "## Data Preprocessiong"
      ],
      "metadata": {
        "id": "TAnhlvItr1lE"
      }
    },
    {
      "cell_type": "code",
      "source": [
        "df = pd.read_csv(\"/content/filtered.csv\")\n",
        "\n",
        "print(f\"✅ Data loaded successfully!\")\n",
        "print(f\"📊 Dataset shape: {df.shape}\")\n",
        "print(\"\\n📋 First 5 rows:\")\n",
        "df.head()"
      ],
      "metadata": {
        "colab": {
          "base_uri": "https://localhost:8080/",
          "height": 279
        },
        "id": "pKFv-XlYGIWM",
        "outputId": "e6043f8a-c026-44c7-86f8-c2fa8f0a0c83"
      },
      "execution_count": null,
      "outputs": [
        {
          "output_type": "stream",
          "name": "stdout",
          "text": [
            "✅ Data loaded successfully!\n",
            "📊 Dataset shape: (1394, 7)\n",
            "\n",
            "📋 First 5 rows:\n"
          ]
        },
        {
          "output_type": "execute_result",
          "data": {
            "text/plain": [
              "                    BookName          AuthorName    TimePeriod Library  \\\n",
              "0       Psalterium Campensis                 NaN           NaN  Husner   \n",
              "1  Interpretatio in Psal. 93     Jacobi Sadoleti  16th century  Husner   \n",
              "2              Deuteronomium                 NaN           NaN  Husner   \n",
              "3                  Proverbia                 NaN           NaN  Husner   \n",
              "4      Commentary on Genesis  Philip Melanchthon  16th century  Husner   \n",
              "\n",
              "  Location                                        Description            Genre  \n",
              "0      NaN  A psalter, possibly associated with the Campen...  Religious works  \n",
              "1      NaN  An interpretation or commentary on Psalm 93 by...  Religious works  \n",
              "2      NaN  The Book of Deuteronomy, part of the Old Testa...  Religious works  \n",
              "3      NaN  The Book of Proverbs, a collection of wise say...  Religious works  \n",
              "4      NaN  A theological commentary on the Book of Genesi...  Religious works  "
            ],
            "text/html": [
              "\n",
              "  <div id=\"df-85b12586-e519-4fb1-b9c0-7c4fc449f66d\" class=\"colab-df-container\">\n",
              "    <div>\n",
              "<style scoped>\n",
              "    .dataframe tbody tr th:only-of-type {\n",
              "        vertical-align: middle;\n",
              "    }\n",
              "\n",
              "    .dataframe tbody tr th {\n",
              "        vertical-align: top;\n",
              "    }\n",
              "\n",
              "    .dataframe thead th {\n",
              "        text-align: right;\n",
              "    }\n",
              "</style>\n",
              "<table border=\"1\" class=\"dataframe\">\n",
              "  <thead>\n",
              "    <tr style=\"text-align: right;\">\n",
              "      <th></th>\n",
              "      <th>BookName</th>\n",
              "      <th>AuthorName</th>\n",
              "      <th>TimePeriod</th>\n",
              "      <th>Library</th>\n",
              "      <th>Location</th>\n",
              "      <th>Description</th>\n",
              "      <th>Genre</th>\n",
              "    </tr>\n",
              "  </thead>\n",
              "  <tbody>\n",
              "    <tr>\n",
              "      <th>0</th>\n",
              "      <td>Psalterium Campensis</td>\n",
              "      <td>NaN</td>\n",
              "      <td>NaN</td>\n",
              "      <td>Husner</td>\n",
              "      <td>NaN</td>\n",
              "      <td>A psalter, possibly associated with the Campen...</td>\n",
              "      <td>Religious works</td>\n",
              "    </tr>\n",
              "    <tr>\n",
              "      <th>1</th>\n",
              "      <td>Interpretatio in Psal. 93</td>\n",
              "      <td>Jacobi Sadoleti</td>\n",
              "      <td>16th century</td>\n",
              "      <td>Husner</td>\n",
              "      <td>NaN</td>\n",
              "      <td>An interpretation or commentary on Psalm 93 by...</td>\n",
              "      <td>Religious works</td>\n",
              "    </tr>\n",
              "    <tr>\n",
              "      <th>2</th>\n",
              "      <td>Deuteronomium</td>\n",
              "      <td>NaN</td>\n",
              "      <td>NaN</td>\n",
              "      <td>Husner</td>\n",
              "      <td>NaN</td>\n",
              "      <td>The Book of Deuteronomy, part of the Old Testa...</td>\n",
              "      <td>Religious works</td>\n",
              "    </tr>\n",
              "    <tr>\n",
              "      <th>3</th>\n",
              "      <td>Proverbia</td>\n",
              "      <td>NaN</td>\n",
              "      <td>NaN</td>\n",
              "      <td>Husner</td>\n",
              "      <td>NaN</td>\n",
              "      <td>The Book of Proverbs, a collection of wise say...</td>\n",
              "      <td>Religious works</td>\n",
              "    </tr>\n",
              "    <tr>\n",
              "      <th>4</th>\n",
              "      <td>Commentary on Genesis</td>\n",
              "      <td>Philip Melanchthon</td>\n",
              "      <td>16th century</td>\n",
              "      <td>Husner</td>\n",
              "      <td>NaN</td>\n",
              "      <td>A theological commentary on the Book of Genesi...</td>\n",
              "      <td>Religious works</td>\n",
              "    </tr>\n",
              "  </tbody>\n",
              "</table>\n",
              "</div>\n",
              "    <div class=\"colab-df-buttons\">\n",
              "\n",
              "  <div class=\"colab-df-container\">\n",
              "    <button class=\"colab-df-convert\" onclick=\"convertToInteractive('df-85b12586-e519-4fb1-b9c0-7c4fc449f66d')\"\n",
              "            title=\"Convert this dataframe to an interactive table.\"\n",
              "            style=\"display:none;\">\n",
              "\n",
              "  <svg xmlns=\"http://www.w3.org/2000/svg\" height=\"24px\" viewBox=\"0 -960 960 960\">\n",
              "    <path d=\"M120-120v-720h720v720H120Zm60-500h600v-160H180v160Zm220 220h160v-160H400v160Zm0 220h160v-160H400v160ZM180-400h160v-160H180v160Zm440 0h160v-160H620v160ZM180-180h160v-160H180v160Zm440 0h160v-160H620v160Z\"/>\n",
              "  </svg>\n",
              "    </button>\n",
              "\n",
              "  <style>\n",
              "    .colab-df-container {\n",
              "      display:flex;\n",
              "      gap: 12px;\n",
              "    }\n",
              "\n",
              "    .colab-df-convert {\n",
              "      background-color: #E8F0FE;\n",
              "      border: none;\n",
              "      border-radius: 50%;\n",
              "      cursor: pointer;\n",
              "      display: none;\n",
              "      fill: #1967D2;\n",
              "      height: 32px;\n",
              "      padding: 0 0 0 0;\n",
              "      width: 32px;\n",
              "    }\n",
              "\n",
              "    .colab-df-convert:hover {\n",
              "      background-color: #E2EBFA;\n",
              "      box-shadow: 0px 1px 2px rgba(60, 64, 67, 0.3), 0px 1px 3px 1px rgba(60, 64, 67, 0.15);\n",
              "      fill: #174EA6;\n",
              "    }\n",
              "\n",
              "    .colab-df-buttons div {\n",
              "      margin-bottom: 4px;\n",
              "    }\n",
              "\n",
              "    [theme=dark] .colab-df-convert {\n",
              "      background-color: #3B4455;\n",
              "      fill: #D2E3FC;\n",
              "    }\n",
              "\n",
              "    [theme=dark] .colab-df-convert:hover {\n",
              "      background-color: #434B5C;\n",
              "      box-shadow: 0px 1px 3px 1px rgba(0, 0, 0, 0.15);\n",
              "      filter: drop-shadow(0px 1px 2px rgba(0, 0, 0, 0.3));\n",
              "      fill: #FFFFFF;\n",
              "    }\n",
              "  </style>\n",
              "\n",
              "    <script>\n",
              "      const buttonEl =\n",
              "        document.querySelector('#df-85b12586-e519-4fb1-b9c0-7c4fc449f66d button.colab-df-convert');\n",
              "      buttonEl.style.display =\n",
              "        google.colab.kernel.accessAllowed ? 'block' : 'none';\n",
              "\n",
              "      async function convertToInteractive(key) {\n",
              "        const element = document.querySelector('#df-85b12586-e519-4fb1-b9c0-7c4fc449f66d');\n",
              "        const dataTable =\n",
              "          await google.colab.kernel.invokeFunction('convertToInteractive',\n",
              "                                                    [key], {});\n",
              "        if (!dataTable) return;\n",
              "\n",
              "        const docLinkHtml = 'Like what you see? Visit the ' +\n",
              "          '<a target=\"_blank\" href=https://colab.research.google.com/notebooks/data_table.ipynb>data table notebook</a>'\n",
              "          + ' to learn more about interactive tables.';\n",
              "        element.innerHTML = '';\n",
              "        dataTable['output_type'] = 'display_data';\n",
              "        await google.colab.output.renderOutput(dataTable, element);\n",
              "        const docLink = document.createElement('div');\n",
              "        docLink.innerHTML = docLinkHtml;\n",
              "        element.appendChild(docLink);\n",
              "      }\n",
              "    </script>\n",
              "  </div>\n",
              "\n",
              "\n",
              "    <div id=\"df-47fc0558-c398-45bd-8596-e718fe7c94e3\">\n",
              "      <button class=\"colab-df-quickchart\" onclick=\"quickchart('df-47fc0558-c398-45bd-8596-e718fe7c94e3')\"\n",
              "                title=\"Suggest charts\"\n",
              "                style=\"display:none;\">\n",
              "\n",
              "<svg xmlns=\"http://www.w3.org/2000/svg\" height=\"24px\"viewBox=\"0 0 24 24\"\n",
              "     width=\"24px\">\n",
              "    <g>\n",
              "        <path d=\"M19 3H5c-1.1 0-2 .9-2 2v14c0 1.1.9 2 2 2h14c1.1 0 2-.9 2-2V5c0-1.1-.9-2-2-2zM9 17H7v-7h2v7zm4 0h-2V7h2v10zm4 0h-2v-4h2v4z\"/>\n",
              "    </g>\n",
              "</svg>\n",
              "      </button>\n",
              "\n",
              "<style>\n",
              "  .colab-df-quickchart {\n",
              "      --bg-color: #E8F0FE;\n",
              "      --fill-color: #1967D2;\n",
              "      --hover-bg-color: #E2EBFA;\n",
              "      --hover-fill-color: #174EA6;\n",
              "      --disabled-fill-color: #AAA;\n",
              "      --disabled-bg-color: #DDD;\n",
              "  }\n",
              "\n",
              "  [theme=dark] .colab-df-quickchart {\n",
              "      --bg-color: #3B4455;\n",
              "      --fill-color: #D2E3FC;\n",
              "      --hover-bg-color: #434B5C;\n",
              "      --hover-fill-color: #FFFFFF;\n",
              "      --disabled-bg-color: #3B4455;\n",
              "      --disabled-fill-color: #666;\n",
              "  }\n",
              "\n",
              "  .colab-df-quickchart {\n",
              "    background-color: var(--bg-color);\n",
              "    border: none;\n",
              "    border-radius: 50%;\n",
              "    cursor: pointer;\n",
              "    display: none;\n",
              "    fill: var(--fill-color);\n",
              "    height: 32px;\n",
              "    padding: 0;\n",
              "    width: 32px;\n",
              "  }\n",
              "\n",
              "  .colab-df-quickchart:hover {\n",
              "    background-color: var(--hover-bg-color);\n",
              "    box-shadow: 0 1px 2px rgba(60, 64, 67, 0.3), 0 1px 3px 1px rgba(60, 64, 67, 0.15);\n",
              "    fill: var(--button-hover-fill-color);\n",
              "  }\n",
              "\n",
              "  .colab-df-quickchart-complete:disabled,\n",
              "  .colab-df-quickchart-complete:disabled:hover {\n",
              "    background-color: var(--disabled-bg-color);\n",
              "    fill: var(--disabled-fill-color);\n",
              "    box-shadow: none;\n",
              "  }\n",
              "\n",
              "  .colab-df-spinner {\n",
              "    border: 2px solid var(--fill-color);\n",
              "    border-color: transparent;\n",
              "    border-bottom-color: var(--fill-color);\n",
              "    animation:\n",
              "      spin 1s steps(1) infinite;\n",
              "  }\n",
              "\n",
              "  @keyframes spin {\n",
              "    0% {\n",
              "      border-color: transparent;\n",
              "      border-bottom-color: var(--fill-color);\n",
              "      border-left-color: var(--fill-color);\n",
              "    }\n",
              "    20% {\n",
              "      border-color: transparent;\n",
              "      border-left-color: var(--fill-color);\n",
              "      border-top-color: var(--fill-color);\n",
              "    }\n",
              "    30% {\n",
              "      border-color: transparent;\n",
              "      border-left-color: var(--fill-color);\n",
              "      border-top-color: var(--fill-color);\n",
              "      border-right-color: var(--fill-color);\n",
              "    }\n",
              "    40% {\n",
              "      border-color: transparent;\n",
              "      border-right-color: var(--fill-color);\n",
              "      border-top-color: var(--fill-color);\n",
              "    }\n",
              "    60% {\n",
              "      border-color: transparent;\n",
              "      border-right-color: var(--fill-color);\n",
              "    }\n",
              "    80% {\n",
              "      border-color: transparent;\n",
              "      border-right-color: var(--fill-color);\n",
              "      border-bottom-color: var(--fill-color);\n",
              "    }\n",
              "    90% {\n",
              "      border-color: transparent;\n",
              "      border-bottom-color: var(--fill-color);\n",
              "    }\n",
              "  }\n",
              "</style>\n",
              "\n",
              "      <script>\n",
              "        async function quickchart(key) {\n",
              "          const quickchartButtonEl =\n",
              "            document.querySelector('#' + key + ' button');\n",
              "          quickchartButtonEl.disabled = true;  // To prevent multiple clicks.\n",
              "          quickchartButtonEl.classList.add('colab-df-spinner');\n",
              "          try {\n",
              "            const charts = await google.colab.kernel.invokeFunction(\n",
              "                'suggestCharts', [key], {});\n",
              "          } catch (error) {\n",
              "            console.error('Error during call to suggestCharts:', error);\n",
              "          }\n",
              "          quickchartButtonEl.classList.remove('colab-df-spinner');\n",
              "          quickchartButtonEl.classList.add('colab-df-quickchart-complete');\n",
              "        }\n",
              "        (() => {\n",
              "          let quickchartButtonEl =\n",
              "            document.querySelector('#df-47fc0558-c398-45bd-8596-e718fe7c94e3 button');\n",
              "          quickchartButtonEl.style.display =\n",
              "            google.colab.kernel.accessAllowed ? 'block' : 'none';\n",
              "        })();\n",
              "      </script>\n",
              "    </div>\n",
              "\n",
              "    </div>\n",
              "  </div>\n"
            ],
            "application/vnd.google.colaboratory.intrinsic+json": {
              "type": "dataframe",
              "variable_name": "df",
              "summary": "{\n  \"name\": \"df\",\n  \"rows\": 1394,\n  \"fields\": [\n    {\n      \"column\": \"BookName\",\n      \"properties\": {\n        \"dtype\": \"string\",\n        \"num_unique_values\": 962,\n        \"samples\": [\n          \"Apophtegmatum opus\",\n          \"Antiphonary\",\n          \"Responsio ad defensionem Petri Cursii\"\n        ],\n        \"semantic_type\": \"\",\n        \"description\": \"\"\n      }\n    },\n    {\n      \"column\": \"AuthorName\",\n      \"properties\": {\n        \"dtype\": \"category\",\n        \"num_unique_values\": 548,\n        \"samples\": [\n          \"Persius\",\n          \"Nicholas of Lyra\",\n          \"Metellus\"\n        ],\n        \"semantic_type\": \"\",\n        \"description\": \"\"\n      }\n    },\n    {\n      \"column\": \"TimePeriod\",\n      \"properties\": {\n        \"dtype\": \"category\",\n        \"num_unique_values\": 145,\n        \"samples\": [\n          \"1971\",\n          \"1st century AD\",\n          \"Middle Ages\"\n        ],\n        \"semantic_type\": \"\",\n        \"description\": \"\"\n      }\n    },\n    {\n      \"column\": \"Library\",\n      \"properties\": {\n        \"dtype\": \"category\",\n        \"num_unique_values\": 53,\n        \"samples\": [\n          \"Kloster Murbach\",\n          \"Hildesheim\",\n          \"Public library at Boulogne\"\n        ],\n        \"semantic_type\": \"\",\n        \"description\": \"\"\n      }\n    },\n    {\n      \"column\": \"Location\",\n      \"properties\": {\n        \"dtype\": \"category\",\n        \"num_unique_values\": 86,\n        \"samples\": [\n          \"Mogunt\",\n          \"Florence\",\n          \"Paris or Rouen\"\n        ],\n        \"semantic_type\": \"\",\n        \"description\": \"\"\n      }\n    },\n    {\n      \"column\": \"Description\",\n      \"properties\": {\n        \"dtype\": \"string\",\n        \"num_unique_values\": 1346,\n        \"samples\": [\n          \"A legal text from the 15th century, its content and significance likely pertain to canon law.\",\n          \"Manuscript discussing the Council of Basel and agreements made with the Bohemians.\",\n          \"A treatise by Theodorus Gaza discussing the calendar and the division of time into months.\"\n        ],\n        \"semantic_type\": \"\",\n        \"description\": \"\"\n      }\n    },\n    {\n      \"column\": \"Genre\",\n      \"properties\": {\n        \"dtype\": \"category\",\n        \"num_unique_values\": 5,\n        \"samples\": [\n          \"Philosophy\",\n          \"Legal works\",\n          \"Historical works\"\n        ],\n        \"semantic_type\": \"\",\n        \"description\": \"\"\n      }\n    }\n  ]\n}"
            }
          },
          "metadata": {},
          "execution_count": 3
        }
      ]
    },
    {
      "cell_type": "code",
      "source": [
        "print(\"🔍 DATA EXPLORATION\")\n",
        "print(\"=\" * 50)\n",
        "\n",
        "print(f\"📊 Total records: {len(df)}\")\n",
        "print(f\"📚 Columns: {list(df.columns)}\")\n",
        "\n",
        "print(f\"\\n❌ Missing values:\")\n",
        "missing_data = df.isnull().sum()\n",
        "for col, missing in missing_data.items():\n",
        "    percentage = (missing / len(df)) * 100\n",
        "    print(f\"   {col}: {missing} ({percentage:.1f}%)\")\n",
        "\n",
        "print(f\"\\n🏷️ Unique genres: {df['Genre'].nunique()}\")\n",
        "print(f\"📈 Genre distribution:\")\n",
        "genre_counts = df['Genre'].value_counts()\n",
        "print(genre_counts)\n",
        "\n",
        "# Check for classes with very few samples\n",
        "print(f\"\\n⚠️ Classes with potential issues (< 3 samples):\")\n",
        "small_classes = genre_counts[genre_counts < 3]\n",
        "if len(small_classes) > 0:\n",
        "    for genre, count in small_classes.items():\n",
        "        print(f\"   {genre}: {count} samples\")\n",
        "    print(f\"\\n💡 Note: Classes with < 2 samples will be removed during splitting\")\n",
        "else:\n",
        "    print(\"   None - all classes have sufficient samples\")\n",
        "\n",
        "# Visualize genre distribution\n",
        "plt.figure(figsize=(12, 6))\n",
        "genre_counts.plot(kind='bar', color='skyblue', edgecolor='navy')\n",
        "plt.title('Genre Distribution', fontsize=14, fontweight='bold')\n",
        "plt.xlabel('Genre')\n",
        "plt.ylabel('Count')\n",
        "plt.xticks(rotation=45, ha='right')\n",
        "\n",
        "# Add value labels on bars\n",
        "for i, v in enumerate(genre_counts.values):\n",
        "    plt.text(i, v + 0.1, str(v), ha='center', va='bottom')\n",
        "\n",
        "plt.tight_layout()\n",
        "plt.show()"
      ],
      "metadata": {
        "colab": {
          "base_uri": "https://localhost:8080/",
          "height": 1000
        },
        "id": "04j6IIMpG7i4",
        "outputId": "76bda295-62b1-4eb1-e728-ccf69dba922d"
      },
      "execution_count": null,
      "outputs": [
        {
          "output_type": "stream",
          "name": "stdout",
          "text": [
            "🔍 DATA EXPLORATION\n",
            "==================================================\n",
            "📊 Total records: 1394\n",
            "📚 Columns: ['BookName', 'AuthorName', 'TimePeriod', 'Library', 'Location', 'Description', 'Genre']\n",
            "\n",
            "❌ Missing values:\n",
            "   BookName: 245 (17.6%)\n",
            "   AuthorName: 348 (25.0%)\n",
            "   TimePeriod: 483 (34.6%)\n",
            "   Library: 36 (2.6%)\n",
            "   Location: 997 (71.5%)\n",
            "   Description: 48 (3.4%)\n",
            "   Genre: 0 (0.0%)\n",
            "\n",
            "🏷️ Unique genres: 5\n",
            "📈 Genre distribution:\n",
            "Genre\n",
            "Legal works         490\n",
            "Religious works     348\n",
            "Historical works    271\n",
            "Philosophy          220\n",
            "Literary works       65\n",
            "Name: count, dtype: int64\n",
            "\n",
            "⚠️ Classes with potential issues (< 3 samples):\n",
            "   None - all classes have sufficient samples\n"
          ]
        },
        {
          "output_type": "display_data",
          "data": {
            "text/plain": [
              "<Figure size 1200x600 with 1 Axes>"
            ],
            "image/png": "[encoded data removed]"
          },
          "metadata": {}
        }
      ]
    },
    {
      "cell_type": "code",
      "source": [
        "class BookDataset(Dataset):\n",
        "    \"\"\"\n",
        "    Custom PyTorch Dataset for book genre classification\n",
        "    Handles tokenization and prepares data for BERT\n",
        "    \"\"\"\n",
        "\n",
        "    def __init__(self, texts, labels, tokenizer, max_length=512):\n",
        "        self.texts = texts\n",
        "        self.labels = labels\n",
        "        self.tokenizer = tokenizer\n",
        "        self.max_length = max_length\n",
        "\n",
        "    def __len__(self):\n",
        "        return len(self.texts)\n",
        "\n",
        "    def __getitem__(self, idx):\n",
        "        text = str(self.texts[idx])\n",
        "\n",
        "        # Tokenize the text for BERT\n",
        "        encoding = self.tokenizer(\n",
        "            text,\n",
        "            truncation=True,\n",
        "            padding='max_length',\n",
        "            max_length=self.max_length,\n",
        "            return_tensors='pt'\n",
        "        )\n",
        "\n",
        "        return {\n",
        "            'input_ids': encoding['input_ids'].flatten(),\n",
        "            'attention_mask': encoding['attention_mask'].flatten(),\n",
        "            'labels': torch.tensor(self.labels[idx], dtype=torch.long)\n",
        "        }\n",
        "\n",
        "print(\"✅ BookDataset class created!\")"
      ],
      "metadata": {
        "colab": {
          "base_uri": "https://localhost:8080/"
        },
        "id": "tNOSrIUBHGME",
        "outputId": "9cc02e60-9bc3-442c-de6a-0a409248277a"
      },
      "execution_count": null,
      "outputs": [
        {
          "output_type": "stream",
          "name": "stdout",
          "text": [
            "✅ BookDataset class created!\n"
          ]
        }
      ]
    },
    {
      "cell_type": "code",
      "source": [
        "def preprocess_data(df):\n",
        "    \"\"\"\n",
        "    Clean and prepare the book data for training\n",
        "    \"\"\"\n",
        "    print(\"🧹 PREPROCESSING DATA...\")\n",
        "    print(\"=\" * 30)\n",
        "\n",
        "    # Create a copy to avoid modifying original data\n",
        "    data = df.copy()\n",
        "\n",
        "    print(f\"📊 Initial data shape: {data.shape}\")\n",
        "\n",
        "    # Remove rows where Genre is missing (we need target labels!)\n",
        "    initial_count = len(data)\n",
        "    data = data.dropna(subset=['Genre'])\n",
        "    removed_count = initial_count - len(data)\n",
        "    if removed_count > 0:\n",
        "        print(f\"❌ Removed {removed_count} rows with missing genres\")\n",
        "\n",
        "    # Fill missing values with empty strings for text combination\n",
        "    data['BookName'] = data['BookName'].fillna('')\n",
        "    data['Library'] = data['Library'].fillna('')\n",
        "    data['Description'] = data['Description'].fillna('')\n",
        "    data['AuthorName'] = data['AuthorName'].fillna('')\n",
        "    data['TimePeriod'] = data['TimePeriod'].fillna('')\n",
        "    data['Location'] = data['Location'].fillna('')\n",
        "\n",
        "  #   BookName: 245 (17.6%)\n",
        "  #  AuthorName: 348 (25.0%)\n",
        "  #  TimePeriod: 483 (34.6%)\n",
        "  #  Library: 36 (2.6%)\n",
        "  #  Location: 997 (71.5%)\n",
        "  #  Description: 48 (3.4%)\n",
        "  #  Genre: 0 (0.0%)\n",
        "\n",
        "    # Combine all text fields - this is the key insight!\n",
        "    # We use [SEP] tokens to separate different fields\n",
        "    data['combined_text'] = (\n",
        "        'Name of Book: ' + data['BookName'].astype(str) + ' [SEP] ' +\n",
        "        'Name of Library: '+ data['Library'].astype(str) + ' [SEP] ' +\n",
        "        'Description: '+ data['Description'].astype(str) + ' [SEP] ' +\n",
        "        'Author: '+ data['AuthorName'].astype(str) + ' [SEP] ' +\n",
        "        'Time Period: '+ data['TimePeriod'].astype(str) + ' [SEP] ' +\n",
        "        'Location: '+ data['Location'].astype(str)\n",
        "    ).str.strip()\n",
        "\n",
        "    # Remove entries where all text fields are empty\n",
        "    empty_mask = data['combined_text'] == '[SEP]  [SEP] '\n",
        "    data = data[~empty_mask]\n",
        "    empty_removed = empty_mask.sum()\n",
        "    if empty_removed > 0:\n",
        "        print(f\"❌ Removed {empty_removed} rows with no text content\")\n",
        "\n",
        "    print(f\"✅ Final preprocessed data shape: {data.shape}\")\n",
        "    print(f\"🏷️ Unique genres: {data['Genre'].nunique()}\")\n",
        "\n",
        "    return data\n",
        "\n",
        "# Preprocess the data\n",
        "processed_data = preprocess_data(df)"
      ],
      "metadata": {
        "colab": {
          "base_uri": "https://localhost:8080/"
        },
        "id": "7XR3mBa0HLkV",
        "outputId": "de9a7fbb-be85-48f6-fe1a-f373ff3bf649"
      },
      "execution_count": null,
      "outputs": [
        {
          "output_type": "stream",
          "name": "stdout",
          "text": [
            "🧹 PREPROCESSING DATA...\n",
            "==============================\n",
            "📊 Initial data shape: (1394, 7)\n",
            "✅ Final preprocessed data shape: (1394, 8)\n",
            "🏷️ Unique genres: 5\n"
          ]
        }
      ]
    },
    {
      "cell_type": "code",
      "source": [
        "print(\"👀 SAMPLE COMBINED TEXT EXAMPLES\")\n",
        "print(\"=\" * 50)\n",
        "\n",
        "for i in range(min(5, len(processed_data))):\n",
        "    row = processed_data.iloc[i]\n",
        "    print(f\"\\n📖 Example {i+1}:\")\n",
        "    print(f\"   Genre: {row['Genre']}\")\n",
        "    print(f\"   Combined Text: {row['combined_text'][:200]}...\")"
      ],
      "metadata": {
        "colab": {
          "base_uri": "https://localhost:8080/"
        },
        "id": "joKgs05uHNJP",
        "outputId": "5b52c53b-e3d2-4f4f-b74e-18ecc49aeb0d"
      },
      "execution_count": null,
      "outputs": [
        {
          "output_type": "stream",
          "name": "stdout",
          "text": [
            "👀 SAMPLE COMBINED TEXT EXAMPLES\n",
            "==================================================\n",
            "\n",
            "📖 Example 1:\n",
            "   Genre: Religious works\n",
            "   Combined Text: Name of Book: Psalterium Campensis [SEP] Name of Library: Husner [SEP] Description: A psalter, possibly associated with the Campensis tradition, focusing on the Psalms. [SEP] Author:  [SEP] Time Perio...\n",
            "\n",
            "📖 Example 2:\n",
            "   Genre: Religious works\n",
            "   Combined Text: Name of Book: Interpretatio in Psal. 93 [SEP] Name of Library: Husner [SEP] Description: An interpretation or commentary on Psalm 93 by Jacobi Sadoleti, a humanist scholar and theologian. [SEP] Author...\n",
            "\n",
            "📖 Example 3:\n",
            "   Genre: Religious works\n",
            "   Combined Text: Name of Book: Deuteronomium [SEP] Name of Library: Husner [SEP] Description: The Book of Deuteronomy, part of the Old Testament, detailing laws and speeches attributed to Moses. [SEP] Author:  [SEP] T...\n",
            "\n",
            "📖 Example 4:\n",
            "   Genre: Religious works\n",
            "   Combined Text: Name of Book: Proverbia [SEP] Name of Library: Husner [SEP] Description: The Book of Proverbs, a collection of wise sayings and moral teachings from the Old Testament. [SEP] Author:  [SEP] Time Period...\n",
            "\n",
            "📖 Example 5:\n",
            "   Genre: Religious works\n",
            "   Combined Text: Name of Book: Commentary on Genesis [SEP] Name of Library: Husner [SEP] Description: A theological commentary on the Book of Genesis by Protestant reformer Philip Melanchthon. [SEP] Author: Philip Mel...\n"
          ]
        }
      ]
    },
    {
      "cell_type": "code",
      "source": [
        "def handle_class_imbalance(data, min_samples_per_class=2):\n",
        "    \"\"\"\n",
        "    Handle classes with too few samples for stratified splitting\n",
        "    \"\"\"\n",
        "    print(\"⚖️ HANDLING CLASS IMBALANCE...\")\n",
        "    print(\"=\" * 40)\n",
        "\n",
        "    # Check class distribution\n",
        "    class_counts = data['Genre'].value_counts()\n",
        "    print(\"📊 Current class distribution:\")\n",
        "    for genre, count in class_counts.items():\n",
        "        print(f\"   {genre}: {count} samples\")\n",
        "\n",
        "    # Find classes with insufficient samples\n",
        "    insufficient_classes = class_counts[class_counts < min_samples_per_class]\n",
        "\n",
        "    if len(insufficient_classes) > 0:\n",
        "        print(f\"\\n⚠️ Found {len(insufficient_classes)} classes with < {min_samples_per_class} samples:\")\n",
        "        for genre, count in insufficient_classes.items():\n",
        "            print(f\"   {genre}: {count} samples\")\n",
        "\n",
        "        print(f\"\\n🔧 Options to handle this:\")\n",
        "        print(f\"   1. Remove classes with < {min_samples_per_class} samples\")\n",
        "        print(f\"   2. Use non-stratified splitting (less ideal)\")\n",
        "        print(f\"   3. Duplicate samples (data augmentation)\")\n",
        "\n",
        "        # Option 1: Remove insufficient classes\n",
        "        print(f\"\\n🗑️ Removing classes with < {min_samples_per_class} samples...\")\n",
        "        sufficient_classes = class_counts[class_counts >= min_samples_per_class].index\n",
        "        data_filtered = data[data['Genre'].isin(sufficient_classes)].copy()\n",
        "\n",
        "        removed_samples = len(data) - len(data_filtered)\n",
        "        print(f\"   Removed {removed_samples} samples from {len(insufficient_classes)} classes\")\n",
        "        print(f\"   Remaining samples: {len(data_filtered)}\")\n",
        "        print(f\"   Remaining classes: {len(sufficient_classes)}\")\n",
        "\n",
        "        return data_filtered, True\n",
        "    else:\n",
        "        print(\"✅ All classes have sufficient samples for stratified splitting\")\n",
        "        return data, False\n",
        "\n",
        "def prepare_datasets(data, test_size=0.2, val_size=0.1):\n",
        "    \"\"\"\n",
        "    Split data and create PyTorch datasets with proper class balance handling\n",
        "    \"\"\"\n",
        "    print(\"\\n🔄 PREPARING DATASETS...\")\n",
        "    print(\"=\" * 30)\n",
        "\n",
        "    # Handle class imbalance first\n",
        "    data_balanced, classes_removed = handle_class_imbalance(data)\n",
        "\n",
        "    # Encode genre labels to numbers\n",
        "    label_encoder = LabelEncoder()\n",
        "    y_encoded = label_encoder.fit_transform(data_balanced['Genre'])\n",
        "\n",
        "    print(f\"\\n🏷️ Final label mapping:\")\n",
        "    for i, genre in enumerate(label_encoder.classes_):\n",
        "        count = (data_balanced['Genre'] == genre).sum()\n",
        "        print(f\"   {i}: {genre} ({count} samples)\")\n",
        "\n",
        "    # Check if we can use stratified splitting\n",
        "    min_class_size = min(pd.Series(y_encoded).value_counts())\n",
        "    use_stratify = min_class_size >= 2\n",
        "\n",
        "    if use_stratify:\n",
        "        print(f\"✅ Using stratified splitting (maintains class proportions)\")\n",
        "        stratify_param = y_encoded\n",
        "    else:\n",
        "        print(f\"⚠️ Using random splitting (stratification not possible)\")\n",
        "        stratify_param = None\n",
        "\n",
        "    # Split data\n",
        "    X_temp, X_test, y_temp, y_test = train_test_split(\n",
        "        data_balanced['combined_text'].values,\n",
        "        y_encoded,\n",
        "        test_size=test_size,\n",
        "        random_state=42,\n",
        "        stratify=stratify_param\n",
        "    )\n",
        "\n",
        "    # For validation split, check again if stratification is possible\n",
        "    min_temp_class_size = min(pd.Series(y_temp).value_counts())\n",
        "    use_stratify_val = min_temp_class_size >= 2\n",
        "\n",
        "    X_train, X_val, y_train, y_val = train_test_split(\n",
        "        X_temp,\n",
        "        y_temp,\n",
        "        test_size=val_size/(1-test_size),\n",
        "        random_state=42,\n",
        "        stratify=y_temp if use_stratify_val else None\n",
        "    )\n",
        "\n",
        "    print(f\"\\n📊 Final dataset sizes:\")\n",
        "    print(f\"   Training: {len(X_train)}\")\n",
        "    print(f\"   Validation: {len(X_val)}\")\n",
        "    print(f\"   Test: {len(X_test)}\")\n",
        "\n",
        "    # Show class distribution in each split\n",
        "    print(f\"\\n📈 Class distribution per split:\")\n",
        "    for split_name, split_labels in [(\"Train\", y_train), (\"Val\", y_val), (\"Test\", y_test)]:\n",
        "        split_counts = pd.Series(split_labels).value_counts().sort_index()\n",
        "        print(f\"   {split_name}: {dict(split_counts)}\")\n",
        "\n",
        "    return X_train, X_val, X_test, y_train, y_val, y_test, label_encoder\n",
        "\n",
        "# Create the splits\n",
        "X_train, X_val, X_test, y_train, y_val, y_test, label_encoder = prepare_datasets(processed_data)"
      ],
      "metadata": {
        "colab": {
          "base_uri": "https://localhost:8080/"
        },
        "id": "QuuBoXW8HW7-",
        "outputId": "05fa2c49-5904-4b26-c08c-3491a0060339"
      },
      "execution_count": null,
      "outputs": [
        {
          "output_type": "stream",
          "name": "stdout",
          "text": [
            "\n",
            "🔄 PREPARING DATASETS...\n",
            "==============================\n",
            "⚖️ HANDLING CLASS IMBALANCE...\n",
            "========================================\n",
            "📊 Current class distribution:\n",
            "   Legal works: 490 samples\n",
            "   Religious works: 348 samples\n",
            "   Historical works: 271 samples\n",
            "   Philosophy: 220 samples\n",
            "   Literary works: 65 samples\n",
            "✅ All classes have sufficient samples for stratified splitting\n",
            "\n",
            "🏷️ Final label mapping:\n",
            "   0: Historical works (271 samples)\n",
            "   1: Legal works (490 samples)\n",
            "   2: Literary works (65 samples)\n",
            "   3: Philosophy (220 samples)\n",
            "   4: Religious works (348 samples)\n",
            "✅ Using stratified splitting (maintains class proportions)\n",
            "\n",
            "📊 Final dataset sizes:\n",
            "   Training: 975\n",
            "   Validation: 140\n",
            "   Test: 279\n",
            "\n",
            "📈 Class distribution per split:\n",
            "   Train: {0: np.int64(190), 1: np.int64(343), 2: np.int64(45), 3: np.int64(154), 4: np.int64(243)}\n",
            "   Val: {0: np.int64(27), 1: np.int64(49), 2: np.int64(7), 3: np.int64(22), 4: np.int64(35)}\n",
            "   Test: {0: np.int64(54), 1: np.int64(98), 2: np.int64(13), 3: np.int64(44), 4: np.int64(70)}\n"
          ]
        }
      ]
    },
    {
      "cell_type": "markdown",
      "source": [
        "## Tokenization and experiment set up"
      ],
      "metadata": {
        "id": "tG7BjO1wsk0Q"
      }
    },
    {
      "cell_type": "code",
      "source": [
        "# Initialize the multilingual BERT tokenizer\n",
        "MODEL_NAME = 'bert-base-multilingual-cased'\n",
        "MAX_LENGTH = 512\n",
        "\n",
        "print(f\"🤖 Loading tokenizer: {MODEL_NAME}\")\n",
        "tokenizer = AutoTokenizer.from_pretrained(MODEL_NAME)\n",
        "\n",
        "print(\"✅ Tokenizer loaded successfully!\")\n",
        "print(f\"📏 Max sequence length: {MAX_LENGTH}\")\n",
        "\n",
        "# Test tokenization on a sample\n",
        "sample_text = X_train[0]\n",
        "tokens = tokenizer.tokenize(sample_text[:200])\n",
        "print(f\"\\n🔤 Sample tokenization (first 10 tokens):\")\n",
        "print(tokens[:10])"
      ],
      "metadata": {
        "colab": {
          "base_uri": "https://localhost:8080/",
          "height": 254,
          "referenced_widgets": [
            "1b0fe60d5fe04c88a6138df14870cd8e",
            "69f60409f7f44eee8b05cd1655b732cd",
            "ff351a6f77e84e1d9b21383f09381227",
            "f59968659e584c3895247b8c54cd0f65",
            "5158e2bf59be4a128910a861f678c568",
            "5cbb6f3da77b4bcbbc8308e22b9a261c",
            "8d804f8b5ef644aeb40dab17c70391eb",
            "245a698f1c144a7aa1310cb7a1be31e8",
            "ccfea55640794b5f8ab71c83e3f5e8e2",
            "74a5cb0b9f1f4317afe3bd66b080d13c",
            "67dc73cb6dac44568ffd00dd41e58ca4",
            "a0ced0f941bc4dccb67aa8e4132d7a7f",
            "9c3904af13a940fba9a9db82a1873939",
            "175b2a67d7094351b1e238b79dd9a7c6",
            "e9d48f6133d545dd8ac26a184a113623",
            "97d3f44431bb495fa4b035ff4e3e5912",
            "a4630f1c0ca44c57961d72688e787f13",
            "5623dc331d6a4691ae2f5baa7105d7de",
            "3a222ab69c8a49a597dca51859bedf05",
            "4eebee81890c4322a5546ca1e7a08310",
            "56befb2ac0ce424a9512a4794038af49",
            "03983b1d1c6d42dc9e769eabae6cc1f3",
            "c41510be511e452e9f05dc93b22e2f58",
            "5c8cc2d00e3b4ba6b219e1de9eb89ad2",
            "1a1d25724d9e4740acfe4d3412622d1a",
            "54a3915d0d644bc9a3bfee3f63c4ebb3",
            "0b935aa683dd4a12b9048207d7e06e1b",
            "998b50387cd244ddb4ee70c0414ab3e6",
            "2e5a4926b72d43abbf548216dbafddca",
            "054e54d884d64a36826f4680cabd52cf",
            "10680c52da7a4ecb8f9511f6768163a9",
            "a6bd972a5a26468b93e33aa7d95060c1",
            "89b0173e69c4470291e918cd2110fb27",
            "0b94438e0559499ab21b35bdeb5f597e",
            "297dab3a3ab84135a032f9726af775f8",
            "96e0dc8c43ff4e59bdc7d986c29f6041",
            "464dad4b03ba4c91801986ffe3b8bc72",
            "051dbdd525484f408b625fc5a80c766a",
            "6a3eddd7550642afb87e367b52c08690",
            "8de55d7023084c6b939e1cafa0e13f07",
            "8b5a0cb26e09433ab3848849cca0a6f9",
            "2217e4b837504d5383fc3b467f496855",
            "433fabcb3f594183bd2ade0fa700743a",
            "803e2ff6c71642feaacee79d544eefe4"
          ]
        },
        "id": "LlQ5gk3jJga5",
        "outputId": "b92e10a0-f03c-49df-a590-e63be1b367ff"
      },
      "execution_count": null,
      "outputs": [
        {
          "output_type": "stream",
          "name": "stdout",
          "text": [
            "🤖 Loading tokenizer: bert-base-multilingual-cased\n"
          ]
        },
        {
          "output_type": "display_data",
          "data": {
            "text/plain": [
              "tokenizer_config.json:   0%|          | 0.00/49.0 [00:00<?, ?B/s]"
            ],
            "application/vnd.jupyter.widget-view+json": {
              "version_major": 2,
              "version_minor": 0,
              "model_id": "1b0fe60d5fe04c88a6138df14870cd8e"
            }
          },
          "metadata": {}
        },
        {
          "output_type": "display_data",
          "data": {
            "text/plain": [
              "config.json:   0%|          | 0.00/625 [00:00<?, ?B/s]"
            ],
            "application/vnd.jupyter.widget-view+json": {
              "version_major": 2,
              "version_minor": 0,
              "model_id": "a0ced0f941bc4dccb67aa8e4132d7a7f"
            }
          },
          "metadata": {}
        },
        {
          "output_type": "display_data",
          "data": {
            "text/plain": [
              "vocab.txt:   0%|          | 0.00/996k [00:00<?, ?B/s]"
            ],
            "application/vnd.jupyter.widget-view+json": {
              "version_major": 2,
              "version_minor": 0,
              "model_id": "c41510be511e452e9f05dc93b22e2f58"
            }
          },
          "metadata": {}
        },
        {
          "output_type": "display_data",
          "data": {
            "text/plain": [
              "tokenizer.json:   0%|          | 0.00/1.96M [00:00<?, ?B/s]"
            ],
            "application/vnd.jupyter.widget-view+json": {
              "version_major": 2,
              "version_minor": 0,
              "model_id": "0b94438e0559499ab21b35bdeb5f597e"
            }
          },
          "metadata": {}
        },
        {
          "output_type": "stream",
          "name": "stdout",
          "text": [
            "✅ Tokenizer loaded successfully!\n",
            "📏 Max sequence length: 512\n",
            "\n",
            "🔤 Sample tokenization (first 10 tokens):\n",
            "['Name', 'of', 'Book', ':', 'E', '##pist', '##ola', '##e', '[SEP]', 'Name']\n"
          ]
        }
      ]
    },
    {
      "cell_type": "code",
      "source": [
        "# Create PyTorch datasets for training\n",
        "print(\"📦 Creating PyTorch datasets...\")\n",
        "\n",
        "train_dataset = BookDataset(X_train, y_train, tokenizer, MAX_LENGTH)\n",
        "val_dataset = BookDataset(X_val, y_val, tokenizer, MAX_LENGTH)\n",
        "test_dataset = BookDataset(X_test, y_test, tokenizer, MAX_LENGTH)\n",
        "\n",
        "print(\"✅ Datasets created successfully!\")\n",
        "\n",
        "# Test dataset functionality\n",
        "sample_item = train_dataset[0]\n",
        "print(f\"\\n🔍 Sample dataset item shapes:\")\n",
        "print(f\"   Input IDs: {sample_item['input_ids'].shape}\")\n",
        "print(f\"   Attention Mask: {sample_item['attention_mask'].shape}\")\n",
        "print(f\"   Label: {sample_item['labels'].item()}\")"
      ],
      "metadata": {
        "colab": {
          "base_uri": "https://localhost:8080/"
        },
        "id": "uTJ18u8KJm6L",
        "outputId": "6c9575cd-3555-4dd0-c8e1-8a7cd8f650d9"
      },
      "execution_count": null,
      "outputs": [
        {
          "output_type": "stream",
          "name": "stdout",
          "text": [
            "📦 Creating PyTorch datasets...\n",
            "✅ Datasets created successfully!\n",
            "\n",
            "🔍 Sample dataset item shapes:\n",
            "   Input IDs: torch.Size([512])\n",
            "   Attention Mask: torch.Size([512])\n",
            "   Label: 4\n"
          ]
        }
      ]
    },
    {
      "cell_type": "code",
      "source": [
        "# Initialize BERT model for classification\n",
        "num_labels = len(label_encoder.classes_)\n",
        "\n",
        "print(f\"🤖 Initializing BERT model...\")\n",
        "print(f\"📊 Number of genres (labels): {num_labels}\")\n",
        "\n",
        "model = AutoModelForSequenceClassification.from_pretrained(\n",
        "    MODEL_NAME,\n",
        "    num_labels=num_labels,\n",
        "    problem_type=\"single_label_classification\"\n",
        ")\n",
        "\n",
        "# Move to GPU if available\n",
        "device = torch.device('cuda' if torch.cuda.is_available() else 'cpu')\n",
        "model.to(device)\n",
        "\n",
        "print(f\"✅ Model initialized successfully!\")\n",
        "print(f\"💻 Device: {device}\")\n",
        "print(f\"🔧 Model parameters: {sum(p.numel() for p in model.parameters()):,}\")"
      ],
      "metadata": {
        "colab": {
          "base_uri": "https://localhost:8080/",
          "height": 177,
          "referenced_widgets": [
            "9f8ec769820347e8be06ce4e01ec61e8",
            "1e17cb3588a34be6b7a4842424cf8076",
            "81a8983661e6493692eb3d8d355eab3a",
            "786f15ed7d9c45beba85eca005a83fb7",
            "a9dd21d05d114a1eaaa3d7c09cf60a9c",
            "c2540f06f6294693aa25514582733492",
            "6b6bb0ff004f4b958b2ae901ee943eb1",
            "6ec006dc594943899266811b3572be0c",
            "dac5af912d764de3a427cf4f216d1afb",
            "4f9341fc8395485da2c239caa7ecfe67",
            "024769ee0c3743c8979296473bb1152e"
          ]
        },
        "id": "Es2x8Z5lJprm",
        "outputId": "73b6f09b-539b-477c-b01d-e68a82150e71"
      },
      "execution_count": null,
      "outputs": [
        {
          "output_type": "stream",
          "name": "stdout",
          "text": [
            "🤖 Initializing BERT model...\n",
            "📊 Number of genres (labels): 5\n"
          ]
        },
        {
          "output_type": "display_data",
          "data": {
            "text/plain": [
              "model.safetensors:   0%|          | 0.00/714M [00:00<?, ?B/s]"
            ],
            "application/vnd.jupyter.widget-view+json": {
              "version_major": 2,
              "version_minor": 0,
              "model_id": "9f8ec769820347e8be06ce4e01ec61e8"
            }
          },
          "metadata": {}
        },
        {
          "output_type": "stream",
          "name": "stderr",
          "text": [
            "Some weights of BertForSequenceClassification were not initialized from the model checkpoint at bert-base-multilingual-cased and are newly initialized: ['classifier.bias', 'classifier.weight']\n",
            "You should probably TRAIN this model on a down-stream task to be able to use it for predictions and inference.\n"
          ]
        },
        {
          "output_type": "stream",
          "name": "stdout",
          "text": [
            "✅ Model initialized successfully!\n",
            "💻 Device: cuda\n",
            "🔧 Model parameters: 177,857,285\n"
          ]
        }
      ]
    },
    {
      "cell_type": "markdown",
      "source": [
        "## Training"
      ],
      "metadata": {
        "id": "ZbKfh6Zus35u"
      }
    },
    {
      "cell_type": "code",
      "source": [
        "# Set up training arguments\n",
        "output_dir = './bert_genre_model'\n",
        "\n",
        "try:\n",
        "    # Try with newer parameter names first\n",
        "    training_args = TrainingArguments(\n",
        "        output_dir=output_dir,\n",
        "        num_train_epochs=3,                 # Number of training epochs\n",
        "        per_device_train_batch_size=8,      # Batch size for training\n",
        "        per_device_eval_batch_size=8,       # Batch size for evaluation\n",
        "        warmup_steps=500,                   # Warmup steps for learning rate\n",
        "        weight_decay=0.01,                  # Weight decay for regularization\n",
        "        logging_dir='./logs',\n",
        "        logging_steps=100,                  # Log every 100 steps\n",
        "        eval_strategy=\"steps\",              # Updated parameter name\n",
        "        eval_steps=500,                     # Evaluate every 500 steps\n",
        "        save_strategy=\"steps\",\n",
        "        save_steps=500,                     # Save model every 500 steps\n",
        "        load_best_model_at_end=True,        # Load best model at end\n",
        "        metric_for_best_model=\"accuracy\",   # Metric to determine best model\n",
        "        greater_is_better=True,\n",
        "        report_to=None,                     # Disable wandb logging\n",
        "    )\n",
        "    print(\"✅ Using newer transformers version parameters\")\n",
        "\n",
        "except TypeError as e:\n",
        "    if \"eval_strategy\" in str(e):\n",
        "        # Fallback to older parameter names\n",
        "        training_args = TrainingArguments(\n",
        "            output_dir=output_dir,\n",
        "            num_train_epochs=3,\n",
        "            per_device_train_batch_size=8,\n",
        "            per_device_eval_batch_size=8,\n",
        "            warmup_steps=500,\n",
        "            weight_decay=0.01,\n",
        "            logging_dir='./logs',\n",
        "            logging_steps=100,\n",
        "            evaluation_strategy=\"steps\",     # Older parameter name\n",
        "            eval_steps=500,\n",
        "            save_strategy=\"steps\",\n",
        "            save_steps=500,\n",
        "            load_best_model_at_end=True,\n",
        "            metric_for_best_model=\"accuracy\",\n",
        "            greater_is_better=True,\n",
        "            report_to=None,\n",
        "        )\n",
        "        print(\"✅ Using older transformers version parameters\")\n",
        "    else:\n",
        "        raise e\n",
        "\n",
        "print(\"⚙️ Training configuration set!\")\n",
        "print(f\"📅 Epochs: {training_args.num_train_epochs}\")\n",
        "print(f\"📦 Batch size: {training_args.per_device_train_batch_size}\")\n",
        "print(f\"💾 Output directory: {output_dir}\")"
      ],
      "metadata": {
        "colab": {
          "base_uri": "https://localhost:8080/"
        },
        "id": "U5_ZHgIqJwFe",
        "outputId": "609e1302-89f3-4b3f-f748-9b2fce8c04d1"
      },
      "execution_count": null,
      "outputs": [
        {
          "output_type": "stream",
          "name": "stdout",
          "text": [
            "✅ Using newer transformers version parameters\n",
            "⚙️ Training configuration set!\n",
            "📅 Epochs: 3\n",
            "📦 Batch size: 8\n",
            "💾 Output directory: ./bert_genre_model\n"
          ]
        }
      ]
    },
    {
      "cell_type": "code",
      "source": [
        "def compute_metrics(eval_pred):\n",
        "    \"\"\"\n",
        "    Compute accuracy metrics for evaluation\n",
        "    \"\"\"\n",
        "    predictions, labels = eval_pred\n",
        "    predictions = np.argmax(predictions, axis=1)\n",
        "\n",
        "    accuracy = accuracy_score(labels, predictions)\n",
        "    return {'accuracy': accuracy}\n",
        "\n",
        "print(\"📊 Metrics function defined!\")"
      ],
      "metadata": {
        "colab": {
          "base_uri": "https://localhost:8080/"
        },
        "id": "1VYOx4-qLKGA",
        "outputId": "3fbc9b36-f656-4d2c-c8d7-f87afcb3e367"
      },
      "execution_count": null,
      "outputs": [
        {
          "output_type": "stream",
          "name": "stdout",
          "text": [
            "📊 Metrics function defined!\n"
          ]
        }
      ]
    },
    {
      "cell_type": "code",
      "source": [
        "# Initialize the Trainer\n",
        "trainer = Trainer(\n",
        "    model=model,\n",
        "    args=training_args,\n",
        "    train_dataset=train_dataset,\n",
        "    eval_dataset=val_dataset,\n",
        "    compute_metrics=compute_metrics,\n",
        "    callbacks=[EarlyStoppingCallback(early_stopping_patience=3)]\n",
        ")\n",
        "\n",
        "print(\"🏃‍♂️ Trainer initialized successfully!\")\n",
        "print(\"🛑 Early stopping enabled (patience: 3)\")"
      ],
      "metadata": {
        "colab": {
          "base_uri": "https://localhost:8080/"
        },
        "id": "A4U1WNJRLNhG",
        "outputId": "da1460d2-1b9d-49b4-8aca-83066d0c9b04"
      },
      "execution_count": null,
      "outputs": [
        {
          "output_type": "stream",
          "name": "stdout",
          "text": [
            "🏃‍♂️ Trainer initialized successfully!\n",
            "🛑 Early stopping enabled (patience: 3)\n"
          ]
        }
      ]
    },
    {
      "cell_type": "code",
      "source": [
        "print(\"🚀 STARTING TRAINING...\")\n",
        "print(\"=\" * 50)\n",
        "print(\"☕ This will take a while. Time for coffee!\")\n",
        "\n",
        "# Start training\n",
        "training_result = trainer.train()\n",
        "\n",
        "print(\"\\n🎉 TRAINING COMPLETED!\")\n",
        "print(f\"✅ Final training loss: {training_result.training_loss:.4f}\")\n",
        "\n",
        "# Save the model and tokenizer\n",
        "trainer.save_model(output_dir)\n",
        "tokenizer.save_pretrained(output_dir)\n",
        "\n",
        "print(f\"💾 Model and tokenizer saved to: {output_dir}\")"
      ],
      "metadata": {
        "colab": {
          "base_uri": "https://localhost:8080/",
          "height": 492
        },
        "id": "dZXJ22f4LSWR",
        "outputId": "76d1c2bd-db22-42d5-ddb5-49d5832d9568"
      },
      "execution_count": null,
      "outputs": [
        {
          "output_type": "stream",
          "name": "stderr",
          "text": [
            "\u001b[34m\u001b[1mwandb\u001b[0m: \u001b[33mWARNING\u001b[0m The `run_name` is currently set to the same value as `TrainingArguments.output_dir`. If this was not intended, please specify a different run name by setting the `TrainingArguments.run_name` parameter.\n"
          ]
        },
        {
          "output_type": "stream",
          "name": "stdout",
          "text": [
            "🚀 STARTING TRAINING...\n",
            "==================================================\n",
            "☕ This will take a while. Time for coffee!\n"
          ]
        },
        {
          "output_type": "display_data",
          "data": {
            "text/plain": [
              "<IPython.core.display.Javascript object>"
            ],
            "application/javascript": [
              "\n",
              "        window._wandbApiKey = new Promise((resolve, reject) => {\n",
              "            function loadScript(url) {\n",
              "            return new Promise(function(resolve, reject) {\n",
              "                let newScript = document.createElement(\"script\");\n",
              "                newScript.onerror = reject;\n",
              "                newScript.onload = resolve;\n",
              "                document.body.appendChild(newScript);\n",
              "                newScript.src = url;\n",
              "            });\n",
              "            }\n",
              "            loadScript(\"https://cdn.jsdelivr.net/npm/postmate/build/postmate.min.js\").then(() => {\n",
              "            const iframe = document.createElement('iframe')\n",
              "            iframe.style.cssText = \"width:0;height:0;border:none\"\n",
              "            document.body.appendChild(iframe)\n",
              "            const handshake = new Postmate({\n",
              "                container: iframe,\n",
              "                url: 'https://wandb.ai/authorize'\n",
              "            });\n",
              "            const timeout = setTimeout(() => reject(\"Couldn't auto authenticate\"), 5000)\n",
              "            handshake.then(function(child) {\n",
              "                child.on('authorize', data => {\n",
              "                    clearTimeout(timeout)\n",
              "                    resolve(data)\n",
              "                });\n",
              "            });\n",
              "            })\n",
              "        });\n",
              "    "
            ]
          },
          "metadata": {}
        },
        {
          "output_type": "stream",
          "name": "stderr",
          "text": [
            "\u001b[34m\u001b[1mwandb\u001b[0m: Logging into wandb.ai. (Learn how to deploy a W&B server locally: https://wandb.me/wandb-server)\n",
            "\u001b[34m\u001b[1mwandb\u001b[0m: You can find your API key in your browser here: https://wandb.ai/authorize?ref=models\n",
            "wandb: Paste an API key from your profile and hit enter:"
          ]
        },
        {
          "name": "stdout",
          "output_type": "stream",
          "text": [
            " ··········\n"
          ]
        },
        {
          "output_type": "stream",
          "name": "stderr",
          "text": [
            "\u001b[34m\u001b[1mwandb\u001b[0m: \u001b[33mWARNING\u001b[0m If you're specifying your api key in code, ensure this code is not shared publicly.\n",
            "\u001b[34m\u001b[1mwandb\u001b[0m: \u001b[33mWARNING\u001b[0m Consider setting the WANDB_API_KEY environment variable, or running `wandb login` from the command line.\n",
            "\u001b[34m\u001b[1mwandb\u001b[0m: No netrc file found, creating one.\n",
            "\u001b[34m\u001b[1mwandb\u001b[0m: Appending key for api.wandb.ai to your netrc file: /root/.netrc\n",
            "\u001b[34m\u001b[1mwandb\u001b[0m: Currently logged in as: \u001b[33musman-xia\u001b[0m to \u001b[32mhttps://api.wandb.ai\u001b[0m. Use \u001b[1m`wandb login --relogin`\u001b[0m to force relogin\n"
          ]
        },
        {
          "output_type": "display_data",
          "data": {
            "text/plain": [
              "<IPython.core.display.HTML object>"
            ],
            "text/html": [
              "Tracking run with wandb version 0.21.0"
            ]
          },
          "metadata": {}
        },
        {
          "output_type": "display_data",
          "data": {
            "text/plain": [
              "<IPython.core.display.HTML object>"
            ],
            "text/html": [
              "Run data is saved locally in <code>/content/wandb/run-20250730_154041-9hb6erce</code>"
            ]
          },
          "metadata": {}
        },
        {
          "output_type": "display_data",
          "data": {
            "text/plain": [
              "<IPython.core.display.HTML object>"
            ],
            "text/html": [
              "Syncing run <strong><a href='https://wandb.ai/usman-xia/huggingface/runs/9hb6erce' target=\"_blank\">./bert_genre_model</a></strong> to <a href='https://wandb.ai/usman-xia/huggingface' target=\"_blank\">Weights & Biases</a> (<a href='https://wandb.me/developer-guide' target=\"_blank\">docs</a>)<br>"
            ]
          },
          "metadata": {}
        },
        {
          "output_type": "display_data",
          "data": {
            "text/plain": [
              "<IPython.core.display.HTML object>"
            ],
            "text/html": [
              " View project at <a href='https://wandb.ai/usman-xia/huggingface' target=\"_blank\">https://wandb.ai/usman-xia/huggingface</a>"
            ]
          },
          "metadata": {}
        },
        {
          "output_type": "display_data",
          "data": {
            "text/plain": [
              "<IPython.core.display.HTML object>"
            ],
            "text/html": [
              " View run at <a href='https://wandb.ai/usman-xia/huggingface/runs/9hb6erce' target=\"_blank\">https://wandb.ai/usman-xia/huggingface/runs/9hb6erce</a>"
            ]
          },
          "metadata": {}
        },
        {
          "output_type": "display_data",
          "data": {
            "text/plain": [
              "<IPython.core.display.HTML object>"
            ],
            "text/html": [
              "\n",
              "    <div>\n",
              "      \n",
              "      <progress value='366' max='366' style='width:300px; height:20px; vertical-align: middle;'></progress>\n",
              "      [366/366 04:59, Epoch 3/3]\n",
              "    </div>\n",
              "    <table border=\"1\" class=\"dataframe\">\n",
              "  <thead>\n",
              " <tr style=\"text-align: left;\">\n",
              "      <th>Step</th>\n",
              "      <th>Training Loss</th>\n",
              "      <th>Validation Loss</th>\n",
              "    </tr>\n",
              "  </thead>\n",
              "  <tbody>\n",
              "  </tbody>\n",
              "</table><p>"
            ]
          },
          "metadata": {}
        },
        {
          "output_type": "stream",
          "name": "stdout",
          "text": [
            "\n",
            "🎉 TRAINING COMPLETED!\n",
            "✅ Final training loss: 0.6918\n",
            "💾 Model and tokenizer saved to: ./bert_genre_model\n"
          ]
        }
      ]
    },
    {
      "cell_type": "markdown",
      "source": [
        "## Model Evaluation"
      ],
      "metadata": {
        "id": "ku6Syj-vtAp0"
      }
    },
    {
      "cell_type": "code",
      "source": [
        "# Evaluate the model on test data\n",
        "print(\"📊 EVALUATING MODEL ON TEST SET...\")\n",
        "print(\"=\" * 40)\n",
        "\n",
        "# Get predictions\n",
        "predictions = trainer.predict(test_dataset)\n",
        "y_pred = np.argmax(predictions.predictions, axis=1)\n",
        "y_true = predictions.label_ids\n",
        "\n",
        "# Calculate accuracy\n",
        "test_accuracy = accuracy_score(y_true, y_pred)\n",
        "print(f\"🎯 Test Accuracy: {test_accuracy:.4f} ({test_accuracy*100:.2f}%)\")\n",
        "\n",
        "# Detailed classification report\n",
        "print(f\"\\n📋 DETAILED CLASSIFICATION REPORT:\")\n",
        "print(\"=\" * 50)\n",
        "\n",
        "# Get the unique labels present in the test set\n",
        "unique_labels_in_test = np.unique(y_true)\n",
        "# Map encoded labels back to original genre names\n",
        "target_names_in_test = [label_encoder.classes_[i] for i in unique_labels_in_test]\n",
        "\n",
        "report = classification_report(\n",
        "    y_true,\n",
        "    y_pred,\n",
        "    labels=unique_labels_in_test, # Specify labels present in the test set\n",
        "    target_names=target_names_in_test,\n",
        "    digits=4\n",
        ")\n",
        "print(report)"
      ],
      "metadata": {
        "colab": {
          "base_uri": "https://localhost:8080/",
          "height": 345
        },
        "id": "sPteea_VModS",
        "outputId": "fc134d2e-094b-40e5-856d-a5edc3177ad7"
      },
      "execution_count": null,
      "outputs": [
        {
          "output_type": "stream",
          "name": "stdout",
          "text": [
            "📊 EVALUATING MODEL ON TEST SET...\n",
            "========================================\n"
          ]
        },
        {
          "output_type": "display_data",
          "data": {
            "text/plain": [
              "<IPython.core.display.HTML object>"
            ],
            "text/html": []
          },
          "metadata": {}
        },
        {
          "output_type": "stream",
          "name": "stdout",
          "text": [
            "🎯 Test Accuracy: 0.8746 (87.46%)\n",
            "\n",
            "📋 DETAILED CLASSIFICATION REPORT:\n",
            "==================================================\n",
            "                  precision    recall  f1-score   support\n",
            "\n",
            "Historical works     0.8235    0.7778    0.8000        54\n",
            "     Legal works     0.8981    0.9898    0.9417        98\n",
            "  Literary works     0.6875    0.8462    0.7586        13\n",
            "      Philosophy     0.8810    0.8409    0.8605        44\n",
            " Religious works     0.9194    0.8143    0.8636        70\n",
            "\n",
            "        accuracy                         0.8746       279\n",
            "       macro avg     0.8419    0.8538    0.8449       279\n",
            "    weighted avg     0.8765    0.8746    0.8734       279\n",
            "\n"
          ]
        }
      ]
    },
    {
      "cell_type": "code",
      "source": [
        "# Create and plot confusion matrix\n",
        "# Only include labels present in the test set for confusion matrix\n",
        "unique_labels_in_test = np.unique(y_true)\n",
        "cm = confusion_matrix(y_true, y_pred, labels=unique_labels_in_test)\n",
        "\n",
        "plt.figure(figsize=(12, 10))\n",
        "sns.heatmap(\n",
        "    cm,\n",
        "    annot=True,\n",
        "    fmt='d',\n",
        "    cmap='Blues',\n",
        "    # Use only the target names that are actually in the test set\n",
        "    xticklabels=[label_encoder.classes_[i] for i in unique_labels_in_test],\n",
        "    yticklabels=[label_encoder.classes_[i] for i in unique_labels_in_test],\n",
        "    cbar_kws={'label': 'Count'}\n",
        ")\n",
        "plt.title('Confusion Matrix - Genre Prediction Results', fontsize=16, pad=20)\n",
        "plt.xlabel('Predicted Genre', fontsize=12)\n",
        "plt.ylabel('True Genre', fontsize=12)\n",
        "plt.xticks(rotation=45, ha='right')\n",
        "plt.yticks(rotation=0)\n",
        "plt.tight_layout()\n",
        "plt.show()\n",
        "\n",
        "# Calculate per-class accuracy for classes present in the test set\n",
        "print(\"\\n🎯 PER-CLASS ACCURACY:\")\n",
        "print(\"=\" * 30)\n",
        "for i, encoded_label in enumerate(unique_labels_in_test):\n",
        "    genre = label_encoder.classes_[encoded_label]\n",
        "    true_positives = cm[i, i]\n",
        "    total_true = cm[i].sum() # Sum across the row for the true count of this class\n",
        "    class_accuracy = true_positives / total_true if total_true > 0 else 0\n",
        "    print(f\"{genre:20}: {class_accuracy:.3f} ({class_accuracy*100:.1f}%)\")"
      ],
      "metadata": {
        "colab": {
          "base_uri": "https://localhost:8080/",
          "height": 1000
        },
        "id": "7r_oN1vXNJIm",
        "outputId": "dbf3356a-80b9-4fba-9924-fc093fe2fb68"
      },
      "execution_count": null,
      "outputs": [
        {
          "output_type": "display_data",
          "data": {
            "text/plain": [
              "<Figure size 1200x1000 with 2 Axes>"
            ],
            "image/png": "[encoded data removed]"
          },
          "metadata": {}
        },
        {
          "output_type": "stream",
          "name": "stdout",
          "text": [
            "\n",
            "🎯 PER-CLASS ACCURACY:\n",
            "==============================\n",
            "Historical works    : 0.778 (77.8%)\n",
            "Legal works         : 0.990 (99.0%)\n",
            "Literary works      : 0.846 (84.6%)\n",
            "Philosophy          : 0.841 (84.1%)\n",
            "Religious works     : 0.814 (81.4%)\n"
          ]
        }
      ]
    },
    {
      "cell_type": "code",
      "source": [
        "def predict_genre(book_name=\"\", library=\"\", description=\"\", show_confidence=True):\n",
        "    \"\"\"\n",
        "    Predict genre for a single book\n",
        "    \"\"\"\n",
        "    # Combine input text same way as training\n",
        "    combined_text = f\"{book_name} [SEP] {library} [SEP] {description}\".strip()\n",
        "\n",
        "    # Tokenize\n",
        "    inputs = tokenizer(\n",
        "        combined_text,\n",
        "        truncation=True,\n",
        "        padding='max_length',\n",
        "        max_length=MAX_LENGTH,\n",
        "        return_tensors='pt'\n",
        "    )\n",
        "\n",
        "    # Move to same device as model\n",
        "    inputs = {k: v.to(device) for k, v in inputs.items()}\n",
        "\n",
        "    # Get prediction\n",
        "    model.eval()\n",
        "    with torch.no_grad():\n",
        "        outputs = model(**inputs)\n",
        "        predictions = torch.nn.functional.softmax(outputs.logits, dim=-1)\n",
        "        predicted_class = torch.argmax(predictions, dim=-1).cpu().numpy()[0]\n",
        "        confidence = torch.max(predictions).cpu().numpy()\n",
        "\n",
        "        # Get top 3 predictions\n",
        "        top_predictions = torch.topk(predictions, k=min(3, len(label_encoder.classes_)))\n",
        "        top_indices = top_predictions.indices[0].cpu().numpy()\n",
        "        top_confidences = top_predictions.values[0].cpu().numpy()\n",
        "\n",
        "    # Decode prediction\n",
        "    predicted_genre = label_encoder.inverse_transform([predicted_class])[0]\n",
        "\n",
        "    if show_confidence:\n",
        "        print(f\"🎯 Predicted Genre: {predicted_genre}\")\n",
        "        print(f\"📊 Confidence: {confidence:.3f} ({confidence*100:.1f}%)\")\n",
        "        print(f\"\\n🔝 Top 3 Predictions:\")\n",
        "        for i, (idx, conf) in enumerate(zip(top_indices, top_confidences)):\n",
        "            genre = label_encoder.inverse_transform([idx])[0]\n",
        "            print(f\"   {i+1}. {genre}: {conf:.3f} ({conf*100:.1f}%)\")\n",
        "\n",
        "    return predicted_genre, confidence\n",
        "\n",
        "print(\"🔮 Prediction function created!\")"
      ],
      "metadata": {
        "colab": {
          "base_uri": "https://localhost:8080/"
        },
        "id": "N6eRZ6xGNgQJ",
        "outputId": "9a3b1987-6d09-4c36-ede6-55f1f3efeb20"
      },
      "execution_count": null,
      "outputs": [
        {
          "output_type": "stream",
          "name": "stdout",
          "text": [
            "🔮 Prediction function created!\n"
          ]
        }
      ]
    },
    {
      "cell_type": "code",
      "source": [
        "!zip -r /content/file.zip /content/bert_genre_model"
      ],
      "metadata": {
        "colab": {
          "base_uri": "https://localhost:8080/"
        },
        "id": "KsgysTryNloS",
        "outputId": "8e6db3c1-a283-4721-dc81-0e63f103d726"
      },
      "execution_count": null,
      "outputs": [
        {
          "output_type": "stream",
          "name": "stdout",
          "text": [
            "  adding: content/bert_genre_model/ (stored 0%)\n",
            "  adding: content/bert_genre_model/config.json (deflated 59%)\n",
            "  adding: content/bert_genre_model/vocab.txt (deflated 45%)\n",
            "  adding: content/bert_genre_model/tokenizer.json (deflated 67%)\n",
            "  adding: content/bert_genre_model/training_args.bin (deflated 52%)\n",
            "  adding: content/bert_genre_model/tokenizer_config.json (deflated 75%)\n",
            "  adding: content/bert_genre_model/checkpoint-114/ (stored 0%)\n",
            "  adding: content/bert_genre_model/checkpoint-114/config.json (deflated 59%)\n",
            "  adding: content/bert_genre_model/checkpoint-114/optimizer.pt (deflated 55%)\n",
            "  adding: content/bert_genre_model/checkpoint-114/trainer_state.json (deflated 58%)\n",
            "  adding: content/bert_genre_model/checkpoint-114/training_args.bin (deflated 52%)\n",
            "  adding: content/bert_genre_model/checkpoint-114/rng_state.pth (deflated 25%)\n",
            "  adding: content/bert_genre_model/checkpoint-114/scheduler.pt (deflated 56%)\n",
            "  adding: content/bert_genre_model/checkpoint-114/model.safetensors (deflated 7%)\n",
            "  adding: content/bert_genre_model/model.safetensors (deflated 7%)\n",
            "  adding: content/bert_genre_model/special_tokens_map.json (deflated 42%)\n"
          ]
        }
      ]
    }
  ]
}